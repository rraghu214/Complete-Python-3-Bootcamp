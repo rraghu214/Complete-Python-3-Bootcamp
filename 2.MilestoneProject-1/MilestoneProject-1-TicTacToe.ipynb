{
 "cells": [
  {
   "cell_type": "code",
   "execution_count": 1,
   "metadata": {},
   "outputs": [],
   "source": [
    "def display_board(lst):    \n",
    "    print(' ' + '|' + ' ' + '|' + ' ')\n",
    "    print(lst[7] + '|' + lst[8] + '|' + lst[9])\n",
    "    print(' ' + '|' + ' ' + '|' + ' ')\n",
    "    print('-' + '|' + '-' + '|' + '-')\n",
    "    print(' ' + '|' + ' ' + '|' + ' ')\n",
    "    print(lst[4] + '|' + lst[5] + '|' + lst[6])\n",
    "    print(' ' + '|' + ' ' + '|' + ' ')\n",
    "    print('-' + '|' + '-' + '|' + '-')\n",
    "    print(' ' + '|' + ' ' + '|' + ' ')\n",
    "    print(lst[1] + '|' + lst[2] + '|' + lst[3])\n",
    "    print(' ' + '|' + ' ' + '|' + ' ')"
   ]
  },
  {
   "cell_type": "code",
   "execution_count": 2,
   "metadata": {},
   "outputs": [],
   "source": [
    "def intro():\n",
    "    print('Welcome to Tic Tac Toe')\n",
    "    print('Both the players should be using the same computer. Board will look like below: ')\n",
    "    board_elements = ['#','X','O','X','O','X','O','X','O','X']\n",
    "    display_board(board_elements)\n",
    "    print()\n",
    "    P1=''\n",
    "    while P1 !='X' and P1 !='O':\n",
    "        P1 = str(input('Player 1, Do you want to be X or O \\n')).upper()\n",
    "        P2 = ''\n",
    "        if P1 == 'X':\n",
    "            P2 = 'O'\n",
    "        else:\n",
    "            P2 = 'X'\n",
    "    player_who = {'P1':P1,'P2':P2}\n",
    "    return player_who"
   ]
  },
  {
   "cell_type": "code",
   "execution_count": 3,
   "metadata": {},
   "outputs": [],
   "source": [
    "def positional_board():\n",
    "    x = list(str(n) for n in range(0,10))\n",
    "    display_board(x)"
   ]
  },
  {
   "cell_type": "code",
   "execution_count": 4,
   "metadata": {},
   "outputs": [],
   "source": [
    "def validation(l):\n",
    "    if (l[1]==l[2]==l[3]=='X') or (l[4]==l[5]==l[6]=='X') or (l[7]==l[8]==l[9]=='X') or (l[1]==l[4]==l[7]=='X') or (l[2]==l[5]==l[8]=='X') or (l[3]==l[6]==l[9]=='X') or (l[1]==l[5]==l[9]=='X') or (l[3]==l[5]==l[7]=='X'):\n",
    "        return True\n",
    "    elif (l[1]==l[2]==l[3]=='O') or (l[4]==l[5]==l[6]=='O') or (l[7]==l[8]==l[9]=='O') or (l[1]==l[4]==l[7]=='O') or (l[2]==l[5]==l[8]=='O') or (l[3]==l[6]==l[9]=='O') or (l[1]==l[5]==l[9]=='O') or (l[3]==l[5]==l[7]=='O'):\n",
    "        return True\n",
    "    else:\n",
    "        return False\n",
    "    "
   ]
  },
  {
   "cell_type": "code",
   "execution_count": 5,
   "metadata": {},
   "outputs": [],
   "source": [
    "from IPython.display import clear_output\n",
    "def play_game(mydict):\n",
    "    x = 1\n",
    "    board_elements = ['#',' ',' ',' ',' ',' ',' ',' ',' ',' ']\n",
    "    while x < 10:\n",
    "        #print(f'x is {x}')\n",
    "        if x%2 == 0:\n",
    "            pl_id = 2\n",
    "        else:\n",
    "            pl_id = 1\n",
    "        \n",
    "        \n",
    "        temp = 'INVALID'\n",
    "        \n",
    "        \n",
    "        while temp == 'INVALID' :\n",
    "            print(f'Move # {x}')\n",
    "            inp = int(input(f'Player {pl_id} : '))\n",
    "            if inp in range(1,10) and board_elements[inp] == ' ':\n",
    "                temp = 'VALID'\n",
    "            else:\n",
    "                print('Invalid Input. Re-enter a correct value')\n",
    "                temp = 'INVALID'\n",
    "        \n",
    "        \n",
    "        \n",
    "        eff_id = 'P' + str(pl_id)\n",
    "        #print(f'eff_id is {eff_id}')\n",
    "        \n",
    "        board_elements[inp] = mydict[eff_id]\n",
    "        #print(f'board_elements : {board_elements}')\n",
    "        clear_output()\n",
    "        display_board(board_elements)\n",
    "        \n",
    "        if validation(board_elements) == True:\n",
    "            print('You have won the Game! Congrats')\n",
    "            break\n",
    "        elif validation(board_elements) == False and x == 9:\n",
    "            print('Game Over!! It is a TIE Match')\n",
    "            break\n",
    "        else:\n",
    "            x+=1\n",
    "            #print(f'x incremented to {x}')\n",
    "            continue\n",
    "        \n"
   ]
  },
  {
   "cell_type": "code",
   "execution_count": 6,
   "metadata": {},
   "outputs": [],
   "source": [
    "from IPython.display import clear_output\n",
    "def main():\n",
    "    mydict = intro()\n",
    "    clear_output\n",
    "    print('This is the cell-position number of the board')\n",
    "    positional_board()\n",
    "    clear_output\n",
    "    play_game(mydict)"
   ]
  },
  {
   "cell_type": "code",
   "execution_count": 7,
   "metadata": {
    "scrolled": false
   },
   "outputs": [
    {
     "name": "stdout",
     "output_type": "stream",
     "text": [
      " | | \n",
      "X| | \n",
      " | | \n",
      "-|-|-\n",
      " | | \n",
      "O|X|O\n",
      " | | \n",
      "-|-|-\n",
      " | | \n",
      "X|O|X\n",
      " | | \n",
      "You have won the Game! Congrats\n"
     ]
    }
   ],
   "source": [
    "main()"
   ]
  }
 ],
 "metadata": {
  "kernelspec": {
   "display_name": "Python 3",
   "language": "python",
   "name": "python3"
  },
  "language_info": {
   "codemirror_mode": {
    "name": "ipython",
    "version": 3
   },
   "file_extension": ".py",
   "mimetype": "text/x-python",
   "name": "python",
   "nbconvert_exporter": "python",
   "pygments_lexer": "ipython3",
   "version": "3.7.4"
  }
 },
 "nbformat": 4,
 "nbformat_minor": 2
}

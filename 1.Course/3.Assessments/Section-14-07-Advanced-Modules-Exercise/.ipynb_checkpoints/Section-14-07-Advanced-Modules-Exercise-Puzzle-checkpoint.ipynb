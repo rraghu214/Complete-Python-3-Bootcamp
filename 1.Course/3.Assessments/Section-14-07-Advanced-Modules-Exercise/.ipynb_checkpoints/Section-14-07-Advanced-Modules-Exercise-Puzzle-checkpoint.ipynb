{
 "cells": [
  {
   "cell_type": "markdown",
   "metadata": {},
   "source": [
    "___\n",
    "\n",
    "<a href='https://www.udemy.com/user/joseportilla/'><img src='jose_portilla.jpg'/></a>\n",
    "___\n",
    "<center><em>Content Copyright by Pierian Data</em></center>"
   ]
  },
  {
   "cell_type": "markdown",
   "metadata": {},
   "source": [
    "# Advanced Modules Exercise Puzzle\n",
    "\n",
    "It's time to test your new skills, this puzzle project will combine multiple skills sets, including unzipping files with Python, using os module to automatically search through lots of files.\n",
    "\n",
    "## Your Goal\n",
    "\n",
    "This is a puzzle, so we don't want to give you too much guidance and instead have you figure out things on your own.\n",
    "\n",
    "There is a .zip file called 'unzip_me_for_instructions.zip', unzip it, open the .txt file with Python, read the instructions and see if you can figure out what you need to do!\n",
    "\n",
    "**If you get stuck or don't know where to start, here is a [guide/hints](https://docs.google.com/document/d/1JxydUr4n4fSR0EwwuwT-aHia-yPK6r-oTBuVT2sqheo/edit?usp=sharing)**"
   ]
  },
  {
   "cell_type": "code",
   "execution_count": 1,
   "metadata": {},
   "outputs": [],
   "source": [
    "import shutil\n",
    "import os\n",
    "import re"
   ]
  },
  {
   "cell_type": "code",
   "execution_count": 2,
   "metadata": {},
   "outputs": [],
   "source": [
    "shutil.unpack_archive('unzip_me_for_instructions.zip','Instructions')"
   ]
  },
  {
   "cell_type": "code",
   "execution_count": 3,
   "metadata": {},
   "outputs": [
    {
     "data": {
      "text/plain": [
       "'C:\\\\Users\\\\rragh\\\\OneDrive\\\\Complete-Python-3-Bootcamp\\\\1.Course\\\\2.Homeworks\\\\Section-14-07-Advanced-Modules-Exercise'"
      ]
     },
     "execution_count": 3,
     "metadata": {},
     "output_type": "execute_result"
    }
   ],
   "source": [
    "pwd"
   ]
  },
  {
   "cell_type": "code",
   "execution_count": 4,
   "metadata": {},
   "outputs": [
    {
     "data": {
      "text/plain": [
       "['.ipynb_checkpoints',\n",
       " 'Instructions',\n",
       " 'jose_portilla.jpg',\n",
       " 'Section-14-07-Advanced-Modules-Exercise-Puzzle.ipynb',\n",
       " 'unzip_me_for_instructions.zip']"
      ]
     },
     "execution_count": 4,
     "metadata": {},
     "output_type": "execute_result"
    }
   ],
   "source": [
    "os.listdir()"
   ]
  },
  {
   "cell_type": "code",
   "execution_count": 5,
   "metadata": {},
   "outputs": [
    {
     "data": {
      "text/plain": [
       "['Five', 'Four', 'Instructions.txt', 'One', 'Three', 'Two']"
      ]
     },
     "execution_count": 5,
     "metadata": {},
     "output_type": "execute_result"
    }
   ],
   "source": [
    "os.listdir(os.curdir+ '\\\\Instructions\\\\extracted_content')"
   ]
  },
  {
   "cell_type": "markdown",
   "metadata": {},
   "source": [
    "### The new folder 'Instructions' has been extracted"
   ]
  },
  {
   "cell_type": "code",
   "execution_count": 6,
   "metadata": {},
   "outputs": [],
   "source": [
    "file = open(os.curdir+ '\\\\Instructions\\\\extracted_content\\\\Instructions.txt',mode = 'r')"
   ]
  },
  {
   "cell_type": "code",
   "execution_count": 7,
   "metadata": {},
   "outputs": [],
   "source": [
    "instructions = file.read()"
   ]
  },
  {
   "cell_type": "code",
   "execution_count": 8,
   "metadata": {},
   "outputs": [
    {
     "data": {
      "text/plain": [
       "'Good work on unzipping the file!\\nYou should now see 5 folders, each with a lot of random .txt files.\\nWithin one of these text files is a telephone number formated ###-###-#### \\nUse the Python os module and regular expressions to iterate through each file, open it, and search for a telephone number.\\nGood luck!'"
      ]
     },
     "execution_count": 8,
     "metadata": {},
     "output_type": "execute_result"
    }
   ],
   "source": [
    "instructions"
   ]
  },
  {
   "cell_type": "code",
   "execution_count": 9,
   "metadata": {},
   "outputs": [],
   "source": [
    "file.close()"
   ]
  },
  {
   "cell_type": "code",
   "execution_count": 10,
   "metadata": {},
   "outputs": [
    {
     "data": {
      "text/plain": [
       "<re.Match object; span=(163, 175), match='###-###-####'>"
      ]
     },
     "execution_count": 10,
     "metadata": {},
     "output_type": "execute_result"
    }
   ],
   "source": [
    "re.search(r'###-###-####', instructions)"
   ]
  },
  {
   "cell_type": "code",
   "execution_count": 11,
   "metadata": {},
   "outputs": [
    {
     "data": {
      "text/plain": [
       "<re.Match object; span=(163, 175), match='###-###-####'>"
      ]
     },
     "execution_count": 11,
     "metadata": {},
     "output_type": "execute_result"
    }
   ],
   "source": [
    "re.search(r'#{3}-#{3}-#{4}', instructions)"
   ]
  },
  {
   "cell_type": "code",
   "execution_count": 27,
   "metadata": {},
   "outputs": [],
   "source": [
    "a = re.search(r'#{3}-#{3}-#{4}', instructions)"
   ]
  },
  {
   "cell_type": "code",
   "execution_count": 28,
   "metadata": {},
   "outputs": [
    {
     "data": {
      "text/plain": [
       "'###-###-####'"
      ]
     },
     "execution_count": 28,
     "metadata": {},
     "output_type": "execute_result"
    }
   ],
   "source": [
    "a.group()"
   ]
  },
  {
   "cell_type": "code",
   "execution_count": 12,
   "metadata": {},
   "outputs": [],
   "source": [
    "os.chdir('Instructions/extracted_content/')"
   ]
  },
  {
   "cell_type": "code",
   "execution_count": 13,
   "metadata": {},
   "outputs": [
    {
     "data": {
      "text/plain": [
       "['Five', 'Four', 'Instructions.txt', 'One', 'Three', 'Two']"
      ]
     },
     "execution_count": 13,
     "metadata": {},
     "output_type": "execute_result"
    }
   ],
   "source": [
    "os.listdir()"
   ]
  },
  {
   "cell_type": "code",
   "execution_count": 14,
   "metadata": {},
   "outputs": [],
   "source": [
    "folders = os.listdir()"
   ]
  },
  {
   "cell_type": "code",
   "execution_count": 15,
   "metadata": {},
   "outputs": [
    {
     "data": {
      "text/plain": [
       "'Instructions.txt'"
      ]
     },
     "execution_count": 15,
     "metadata": {},
     "output_type": "execute_result"
    }
   ],
   "source": [
    "folders.pop(2)"
   ]
  },
  {
   "cell_type": "code",
   "execution_count": 16,
   "metadata": {},
   "outputs": [
    {
     "data": {
      "text/plain": [
       "['Five', 'Four', 'One', 'Three', 'Two']"
      ]
     },
     "execution_count": 16,
     "metadata": {},
     "output_type": "execute_result"
    }
   ],
   "source": [
    "folders"
   ]
  },
  {
   "cell_type": "code",
   "execution_count": null,
   "metadata": {},
   "outputs": [],
   "source": [
    "os.walk(os.curdir)"
   ]
  },
  {
   "cell_type": "code",
   "execution_count": 23,
   "metadata": {},
   "outputs": [
    {
     "name": "stdout",
     "output_type": "stream",
     "text": [
      ".\n",
      "['Five', 'Four', 'One', 'Three', 'Two']\n",
      "['Instructions.txt']\n",
      ".\\Five\n",
      "[]\n",
      "['AEITMYIRQLP.txt', 'APJKSRITGGX.txt', 'AQKATDFGXTS.txt', 'ARLKFCWIAJE.txt', 'AXJGVPVEFAS.txt', 'BNUQEHCFRTG.txt', 'BSKJDRNEZQM.txt', 'BTYWAHLHKBM.txt', 'BUGKBZWRRVI.txt', 'BVBURZZCAPR.txt', 'CAHBEVSVDDN.txt', 'COMGMZBJAYE.txt', 'CRFSDGYFSHA.txt', 'CSCLFZCDYYC.txt', 'CXBVCTRBBIE.txt', 'DDLASODUVPX.txt', 'DHZBAAYEADM.txt', 'DQPZQLBCJYP.txt', 'DYOPIIVMZOO.txt', 'DZUWWXYIAEL.txt', 'EAAOEPSAWMQ.txt', 'EIPWXMQZJKU.txt', 'ESIZWBHMGDP.txt', 'ETCUEXWNBCF.txt', 'EYTCGIOYWIW.txt']\n",
      ".\\Four\n",
      "[]\n",
      "['ECIOBYCDVFI.txt', 'EMTGPSXQEJX.txt', 'EPRNUHRSESC.txt', 'ESDIZXHYCVY.txt', 'EXVQSVBQQQH.txt', 'QCTCKDIBBVG.txt', 'QCWCFLKNZMN.txt', 'QDDETWBHJYC.txt', 'QTDYYIFPHAU.txt', 'QVNJULGXNUM.txt', 'REAXWSOIQDY.txt', 'ROICPTWKXDX.txt', 'RSXOTNGKBML.txt', 'RXDARIDGKBF.txt', 'RYNXFYXMKHG.txt', 'TAKNAVDMZKV.txt', 'THPNEGKTJWI.txt', 'TJFMLJODVAD.txt', 'TKCZSFQNJTX.txt', 'TWUOYFCCYBQ.txt', 'WFSKPTXPFCH.txt', 'WHTOHQUWXIN.txt', 'WNJISWPEBRS.txt', 'WXDJDOGZEHN.txt', 'WYDLGSGGXKV.txt']\n",
      ".\\One\n",
      "[]\n",
      "['HDOHZHFSTTK.txt', 'HFUTPPAXDIS.txt', 'HMNZTLIFGPD.txt', 'HRQFTHKVJTL.txt', 'HVUTZEVMSBW.txt', 'JDLRVFCXYLU.txt', 'JEHBLZPUPSP.txt', 'JLTXKIGCWDL.txt', 'JQUOBKFUACN.txt', 'JTHSNBNPQSE.txt', 'KCXGNQCZBLO.txt', 'KFIUZFERLET.txt', 'KMMLGJOWLGI.txt', 'KNBSKDREHQU.txt', 'KTXDHIOKAUI.txt', 'LDGOCUQJNNS.txt', 'LFEATJAAYDC.txt', 'LHODFIKVTQA.txt', 'LIFDHOFKWOI.txt', 'LPNDVDXPZIG.txt', 'PDJMSMNKIRM.txt', 'PHWAVPEKAER.txt', 'PLYCGPVEAWO.txt', 'PQNVCVJINAR.txt', 'PTOBBCJYURJ.txt']\n",
      ".\\Three\n",
      "[]\n",
      "['VAQIJTDOFUJ.txt', 'VCFJCGJFBIH.txt', 'VSXFSTABZDY.txt', 'VVHFVZUNLOO.txt', 'VVKGWLRMHLU.txt', 'XAJMCPEWFNI.txt', 'XFHJOTNPEJG.txt', 'XHZPVUQTXIO.txt', 'XJCWENFFGHB.txt', 'XVMPVSVYKFR.txt', 'YCESZHJDBXH.txt', 'YDQFMWXOUMW.txt', 'YQBIUHSUEVW.txt', 'YQRNCMNFFHW.txt', 'YYIZGBTQHZP.txt', 'ZEZKKRBIZEB.txt', 'ZKQJXAYKPVD.txt', 'ZOWVXWPOGWP.txt', 'ZXEZRQXZNPG.txt', 'ZXIBJMPROKW.txt']\n",
      ".\\Two\n",
      "[]\n",
      "['GKQBQRCTNNK.txt', 'GMMQQUBMJNR.txt', 'GQTJJORZBXY.txt', 'GTOTCIWMDBY.txt', 'GXYSEPAFRTP.txt', 'HARDNJGDRBC.txt', 'HEORIXOTANT.txt', 'HMUTDOVNYTV.txt', 'HMZXPBOPRAE.txt', 'HTOHSTYXTCO.txt', 'LCJZYDHBFRM.txt', 'LSQSTGPIGIY.txt', 'LULTNYAQEJG.txt', 'LVMBINRBJXL.txt', 'LYZEQCVYNEZ.txt', 'OHZOUOSFJQC.txt', 'OIHMLGMWTHL.txt', 'OKWFOOYTXFU.txt', 'OMWIMVRCMYM.txt', 'OYMAGXAGWHJ.txt', 'SIKFPPLCJDN.txt', 'SJMJLDGPBSJ.txt', 'SOFUJYXTIMK.txt', 'SPDZYGDHEWO.txt', 'SWOFXREEHWA.txt']\n"
     ]
    }
   ],
   "source": [
    "for folder,subfolders,file_list in os.walk(os.curdir):\n",
    "    print(folder)\n",
    "    print(subfolders)\n",
    "    print(file_list)"
   ]
  },
  {
   "cell_type": "code",
   "execution_count": 36,
   "metadata": {},
   "outputs": [
    {
     "name": "stdout",
     "output_type": "stream",
     "text": [
      "['719-266-2837']\n"
     ]
    }
   ],
   "source": [
    "phone_number = []\n",
    "for folder,subfolders,file_list in os.walk(os.curdir):\n",
    "    #print(folder)\n",
    "    #print(subfolders)\n",
    "    #print(file_list)\n",
    "    for file in file_list:\n",
    "        #print(os.curdir + '\\\\' + folder + '\\\\' + file)\n",
    "        f = open(os.curdir + '\\\\' + folder + '\\\\' + file)\n",
    "        content= f.read()\n",
    "        #print(content)\n",
    "        value = re.search(r'\\d{3}-\\d{3}-\\d{4}',content)\n",
    "        #print(value)\n",
    "        if value != None:\n",
    "            new_val = value.group()\n",
    "            #print(new_val)\n",
    "            phone_number.append(new_val)\n",
    "        f.close()\n",
    "        \n",
    "print(phone_number)\n",
    "        "
   ]
  },
  {
   "cell_type": "markdown",
   "metadata": {},
   "source": [
    "### Scanned through multiple files and found phone number only in one of the file! :-) "
   ]
  }
 ],
 "metadata": {
  "anaconda-cloud": {},
  "kernelspec": {
   "display_name": "Python 3",
   "language": "python",
   "name": "python3"
  },
  "language_info": {
   "codemirror_mode": {
    "name": "ipython",
    "version": 3
   },
   "file_extension": ".py",
   "mimetype": "text/x-python",
   "name": "python",
   "nbconvert_exporter": "python",
   "pygments_lexer": "ipython3",
   "version": "3.7.6"
  }
 },
 "nbformat": 4,
 "nbformat_minor": 2
}

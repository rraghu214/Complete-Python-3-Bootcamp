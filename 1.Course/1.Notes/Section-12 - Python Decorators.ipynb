{
 "cells": [
  {
   "cell_type": "markdown",
   "metadata": {},
   "source": [
    "# Python Decorators\n",
    "\n",
    "- Decorators allow you to decorate a function.\n",
    "- Add new capabilities to the function.\n",
    "- What if you wanted to delete that functionality at a later date.\n",
    "- You have to manually delete it\n",
    "- A better way is to have an on/off switch to quickly enable the new functionality.\n",
    "- Python has **decorators** that allow you to tack on the extra functionality to an already existing functionality.\n",
    "- Uses **@** operator and then placed on top of the original function.\n"
   ]
  },
  {
   "cell_type": "code",
   "execution_count": 1,
   "metadata": {},
   "outputs": [],
   "source": [
    "# Lets  Build  Decorators Manually\n",
    "\n",
    "def new_decorator(name):\n",
    "    def wrap_func():\n",
    "        print('*^*^*^*^*^*^*^*^*^*^*')\n",
    "        name()\n",
    "        print('*v*v*v*v*v*v*v*v*v*v*')\n",
    "        \n",
    "    return wrap_func # **Note** Here you return only the index of the function. My doubt is, why not the function execution itself. Like return wrap_func() ????"
   ]
  },
  {
   "cell_type": "code",
   "execution_count": 2,
   "metadata": {},
   "outputs": [],
   "source": [
    "def original_func():\n",
    "    print('Text'*3)\n"
   ]
  },
  {
   "cell_type": "code",
   "execution_count": 5,
   "metadata": {},
   "outputs": [],
   "source": [
    "val = new_decorator(original_func)"
   ]
  },
  {
   "cell_type": "code",
   "execution_count": 6,
   "metadata": {},
   "outputs": [
    {
     "name": "stdout",
     "output_type": "stream",
     "text": [
      "*^*^*^*^*^*^*^*^*^*^*\n",
      "TextTextText\n",
      "*v*v*v*v*v*v*v*v*v*v*\n"
     ]
    }
   ],
   "source": [
    "val()"
   ]
  },
  {
   "cell_type": "markdown",
   "metadata": {},
   "source": [
    "- In the above, def func acts as a wrapper around the function text()\n",
    "- We can return functions and we can return function arguments."
   ]
  },
  {
   "cell_type": "code",
   "execution_count": 7,
   "metadata": {},
   "outputs": [],
   "source": [
    "# Instead of doing that way. You \n",
    "\n",
    "@new_decorator\n",
    "def original_func():\n",
    "    print('Text'*3) "
   ]
  },
  {
   "cell_type": "code",
   "execution_count": 8,
   "metadata": {},
   "outputs": [
    {
     "name": "stdout",
     "output_type": "stream",
     "text": [
      "*^*^*^*^*^*^*^*^*^*^*\n",
      "TextTextText\n",
      "*v*v*v*v*v*v*v*v*v*v*\n"
     ]
    }
   ],
   "source": [
    "\n",
    "original_func()\"02-Errors and Exceptions Homework.ipynb\""
   ]
  },
  {
   "cell_type": "markdown",
   "metadata": {},
   "source": []
  },
  {
   "cell_type": "markdown",
   "metadata": {},
   "source": [
    "{\n",
    " \"cells\": [\n",
    "  {\n",
    "   \"cell_type\": \"markdown\",\n",
    "   \"metadata\": {},\n",
    "   \"source\": [\n",
    "    \"# Decorators Homework (Optional)\\n\",\n",
    "    \"\\n\",\n",
    "    \"Since you won't run into decorators until further in your coding career, this homework is optional. Check out the Web Framework [Flask](http://flask.pocoo.org/). You can use Flask to create web pages with Python (as long as you know some HTML and CSS) and they use decorators a lot! Learn how they use [view decorators](http://flask.pocoo.org/docs/0.12/patterns/viewdecorators/). Don't worry if you don't completely understand everything about Flask, the main point of this optional homework is that you have an awareness of decorators in Web Frameworks. That way if you decide to become a \\\"Full-Stack\\\" Python Web Developer, you won't find yourself perplexed by decorators. You can also check out [Django](https://www.djangoproject.com/) another (and more popular) web framework for Python which is a bit more heavy duty.\\n\",\n",
    "    \"\\n\",\n",
    "    \"Also for some additional info:\\n\",\n",
    "    \"\\n\",\n",
    "    \"A framework is a type of software library that provides generic functionality which can be extended by the programmer to build applications. Flask and Django are good examples of frameworks intended for web development.\\n\",\n",
    "    \"\\n\",\n",
    "    \"A framework is distinguished from a simple library or API. An API is a piece of software that a developer can use in his or her application. A framework is more encompassing: your entire application is structured around the framework (i.e. it provides the framework around which you build your software).\\n\",\n",
    "    \"\\n\",\n",
    "    \"## Great job!\"\n",
    "   ]\n",
    "  }\n",
    " ],\n",
    " \"metadata\": {\n",
    "  \"kernelspec\": {\n",
    "   \"display_name\": \"Python 3\",\n",
    "   \"language\": \"python\",\n",
    "   \"name\": \"python3\"\n",
    "  },\n",
    "  \"language_info\": {\n",
    "   \"codemirror_mode\": {\n",
    "    \"name\": \"ipython\",\n",
    "    \"version\": 3\n",
    "   },\n",
    "   \"file_extension\": \".py\",\n",
    "   \"mimetype\": \"text/x-python\",\n",
    "   \"name\": \"python\",\n",
    "   \"nbconvert_exporter\": \"python\",\n",
    "   \"pygments_lexer\": \"ipython3\",\n",
    "   \"version\": \"3.6.2\"\n",
    "  }\n",
    " },\n",
    " \"nbformat\": 4,\n",
    " \"nbformat_minor\": 1\n",
    "}"
   ]
  },
  {
   "cell_type": "code",
   "execution_count": null,
   "metadata": {},
   "outputs": [],
   "source": []
  }
 ],
 "metadata": {
  "kernelspec": {
   "display_name": "Python 3",
   "language": "python",
   "name": "python3"
  },
  "language_info": {
   "codemirror_mode": {
    "name": "ipython",
    "version": 3
   },
   "file_extension": ".py",
   "mimetype": "text/x-python",
   "name": "python",
   "nbconvert_exporter": "python",
   "pygments_lexer": "ipython3",
   "version": "3.7.4"
  }
 },
 "nbformat": 4,
 "nbformat_minor": 2
}

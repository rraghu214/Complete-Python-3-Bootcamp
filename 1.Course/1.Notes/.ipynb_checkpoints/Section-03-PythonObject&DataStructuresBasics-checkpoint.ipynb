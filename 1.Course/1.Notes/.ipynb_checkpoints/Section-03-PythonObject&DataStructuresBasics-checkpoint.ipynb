{
 "cells": [
  {
   "cell_type": "markdown",
   "metadata": {},
   "source": [
    "## File Handling"
   ]
  },
  {
   "cell_type": "code",
   "execution_count": 5,
   "metadata": {},
   "outputs": [
    {
     "name": "stdout",
     "output_type": "stream",
     "text": [
      "Writing myfile.txt\n"
     ]
    }
   ],
   "source": [
    "%%writefile myfile.txt\n",
    "'Hello this is first line.'\n",
    "'Hello this is second line'\n",
    "'Hello this is third line'"
   ]
  },
  {
   "cell_type": "code",
   "execution_count": null,
   "metadata": {},
   "outputs": [],
   "source": []
  },
  {
   "cell_type": "code",
   "execution_count": 10,
   "metadata": {},
   "outputs": [],
   "source": [
    "myfile = open('myfile.txt')"
   ]
  },
  {
   "cell_type": "code",
   "execution_count": 7,
   "metadata": {},
   "outputs": [],
   "source": [
    "contents=myfile.read()"
   ]
  },
  {
   "cell_type": "code",
   "execution_count": 8,
   "metadata": {},
   "outputs": [
    {
     "data": {
      "text/plain": [
       "\"'Hello this is first line.'\\n'Hello this is second line'\\n'Hello this is third line'\\n\""
      ]
     },
     "execution_count": 8,
     "metadata": {},
     "output_type": "execute_result"
    }
   ],
   "source": [
    "contents"
   ]
  },
  {
   "cell_type": "code",
   "execution_count": 9,
   "metadata": {},
   "outputs": [],
   "source": [
    "myfile.close()"
   ]
  },
  {
   "cell_type": "code",
   "execution_count": 11,
   "metadata": {},
   "outputs": [
    {
     "data": {
      "text/plain": [
       "str"
      ]
     },
     "execution_count": 11,
     "metadata": {},
     "output_type": "execute_result"
    }
   ],
   "source": [
    "type(contents)"
   ]
  },
  {
   "cell_type": "code",
   "execution_count": 12,
   "metadata": {},
   "outputs": [],
   "source": [
    "line_cont = myfile.readlines()"
   ]
  },
  {
   "cell_type": "code",
   "execution_count": 14,
   "metadata": {},
   "outputs": [
    {
     "name": "stdout",
     "output_type": "stream",
     "text": [
      "[\"'Hello this is first line.'\\n\", \"'Hello this is second line'\\n\", \"'Hello this is third line'\\n\"]\n"
     ]
    }
   ],
   "source": [
    "print(line_cont)"
   ]
  },
  {
   "cell_type": "code",
   "execution_count": 15,
   "metadata": {},
   "outputs": [
    {
     "data": {
      "text/plain": [
       "''"
      ]
     },
     "execution_count": 15,
     "metadata": {},
     "output_type": "execute_result"
    }
   ],
   "source": [
    "myfile.read()"
   ]
  },
  {
   "cell_type": "code",
   "execution_count": 16,
   "metadata": {},
   "outputs": [],
   "source": [
    "myfile.close()"
   ]
  },
  {
   "cell_type": "code",
   "execution_count": 18,
   "metadata": {},
   "outputs": [
    {
     "name": "stdout",
     "output_type": "stream",
     "text": [
      "'Hello this is first line.'\n",
      "'Hello this is second line'\n",
      "'Hello this is third line'\n",
      "\n"
     ]
    }
   ],
   "source": [
    "with open('myfile.txt') as mynewfile:\n",
    "    var = mynewfile.read()\n",
    "    \n",
    "print(var)"
   ]
  },
  {
   "cell_type": "code",
   "execution_count": null,
   "metadata": {},
   "outputs": [],
   "source": []
  },
  {
   "cell_type": "code",
   "execution_count": 2,
   "metadata": {},
   "outputs": [
    {
     "data": {
      "text/plain": [
       "'C:\\\\Users\\\\rragh\\\\OneDrive\\\\Complete-Python-3-Bootcamp\\\\1.Course\\\\1.Notes'"
      ]
     },
     "execution_count": 2,
     "metadata": {},
     "output_type": "execute_result"
    }
   ],
   "source": [
    "pwd"
   ]
  },
  {
   "cell_type": "code",
   "execution_count": 3,
   "metadata": {},
   "outputs": [
    {
     "name": "stdout",
     "output_type": "stream",
     "text": [
      " Volume in drive C has no label.\n",
      " Volume Serial Number is 36EF-3C0D\n",
      "\n",
      " Directory of C:\\Users\\rragh\\OneDrive\\Complete-Python-3-Bootcamp\\1.Course\\1.Notes\n",
      "\n"
     ]
    },
    {
     "name": "stderr",
     "output_type": "stream",
     "text": [
      "File Not Found\n"
     ]
    }
   ],
   "source": [
    "ls -lrt"
   ]
  },
  {
   "cell_type": "code",
   "execution_count": 4,
   "metadata": {},
   "outputs": [
    {
     "name": "stdout",
     "output_type": "stream",
     "text": [
      " Volume in drive C has no label.\n",
      " Volume Serial Number is 36EF-3C0D\n",
      "\n",
      " Directory of C:\\Users\\rragh\\OneDrive\\Complete-Python-3-Bootcamp\\1.Course\\1.Notes\n",
      "\n",
      "04-07-2020  13:54    <DIR>          .\n",
      "04-07-2020  13:54    <DIR>          ..\n",
      "04-07-2020  13:54    <DIR>          .ipynb_checkpoints\n",
      "04-07-2020  12:52            14,618 Section-01-CourseOverview.ipynb\n",
      "04-07-2020  13:54                72 Section-03-PythonObject&DataStructuresBasics.ipynb\n",
      "26-03-2020  10:57            36,684 Section-05-Python Statements.ipynb\n",
      "30-06-2020  11:41           360,242 Section-06-Lambdas-Map&Filters.ipynb\n",
      "29-03-2020  19:12           426,278 Section-06-Methods And Functions.ipynb\n",
      "19-04-2020  17:45            77,052 Section-08-Object Oriented Programming.ipynb\n",
      "23-04-2020  12:43           115,983 Section-09-Modules&Packages.ipynb\n",
      "25-04-2020  22:33           606,558 Section-10-Errors  & Exception Handling & Unit Testing.ipynb\n",
      "24-05-2020  11:29             5,876 Section-12 - Python Decorators.ipynb\n",
      "24-05-2020  12:38            13,281 Section-13-Python Generators.ipynb\n",
      "07-06-2020  23:14            63,047 Section-15-Advanced Python Modules.ipynb\n",
      "              11 File(s)      1,719,691 bytes\n",
      "               3 Dir(s)  150,926,950,400 bytes free\n"
     ]
    }
   ],
   "source": [
    "ls"
   ]
  },
  {
   "cell_type": "code",
   "execution_count": 7,
   "metadata": {},
   "outputs": [],
   "source": [
    "with open('C:\\\\Users\\\\rragh\\\\OneDrive\\\\Complete-Python-3-Bootcamp\\\\1.Course\\\\0.Extras\\Sample.txt', mode = 'w') as f:\n",
    "    f.write('What is this???')"
   ]
  },
  {
   "cell_type": "code",
   "execution_count": 10,
   "metadata": {},
   "outputs": [
    {
     "name": "stdout",
     "output_type": "stream",
     "text": [
      "What is this???\n"
     ]
    }
   ],
   "source": [
    "with open('C:\\\\Users\\\\rragh\\\\OneDrive\\\\Complete-Python-3-Bootcamp\\\\1.Course\\\\0.Extras\\Sample.txt', mode = 'r') as f:\n",
    "    cont = f.read()\n",
    "    \n",
    "print(cont)"
   ]
  },
  {
   "cell_type": "code",
   "execution_count": 13,
   "metadata": {},
   "outputs": [],
   "source": [
    "with open('C:\\\\Users\\\\rragh\\\\OneDrive\\\\Complete-Python-3-Bootcamp\\\\1.Course\\\\0.Extras\\Sample.txt', mode = 'r+') as f:\n",
    "    f.write('third line???')"
   ]
  },
  {
   "cell_type": "code",
   "execution_count": null,
   "metadata": {},
   "outputs": [],
   "source": []
  }
 ],
 "metadata": {
  "kernelspec": {
   "display_name": "Python 3",
   "language": "python",
   "name": "python3"
  },
  "language_info": {
   "codemirror_mode": {
    "name": "ipython",
    "version": 3
   },
   "file_extension": ".py",
   "mimetype": "text/x-python",
   "name": "python",
   "nbconvert_exporter": "python",
   "pygments_lexer": "ipython3",
   "version": "3.7.6"
  }
 },
 "nbformat": 4,
 "nbformat_minor": 4
}

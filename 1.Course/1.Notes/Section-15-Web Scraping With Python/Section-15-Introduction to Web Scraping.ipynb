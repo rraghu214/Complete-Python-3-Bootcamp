{
 "cells": [
  {
   "cell_type": "markdown",
   "metadata": {},
   "source": [
    "# Web Scraping\n",
    "- General term for techniques involving automating the gathering of data from a website.\n",
    "- Using python to carry out web scrapin tasks such as downloading/ images or information off a website.\n",
    "- Understand basics of how website works.\n",
    "    - HTML\n",
    "    - CSS\n",
    "    - JS\n",
    "    \n",
    "- How a website connects to internet. \n",
    "- How it shows the data to you.\n",
    "\n",
    "### Main things to understand for web scraping\n",
    "- Rules of web scraping\n",
    "- Limitations of web scraping\n",
    "- Basic HTML & CSS\n",
    "\n",
    "### Rules of Scraping\n",
    "- Always try to get permission before scraping.\n",
    "- If you make too many scraping attempts your IP Address will get blocked.\n",
    "- Some sites automatically block scraping software.\n",
    "\n",
    "### Limitations of Scraping\n",
    "- In general every website is unique, which means every script is unique.\n",
    "- A slight change or update to a website may completely break your webs scraping script.\n",
    "\n",
    "### Main front end components of a website.\n",
    "- HTML is used to create the basic structure and content to a web page.\n",
    "- CSS is used for the design and style of a webpage, where elements are placed and how it looks.\n",
    "- JS is used to define the interactive elements of a webpage.\n",
    "- For effective basic web scraping we only need to have a basic understanding of HTML and CSS.\n",
    "- Python can view these HTML and CSS elements programatically and then extract the information from a website.\n"
   ]
  },
  {
   "cell_type": "code",
   "execution_count": null,
   "metadata": {},
   "outputs": [],
   "source": []
  },
  {
   "cell_type": "markdown",
   "metadata": {},
   "source": [
    "### Understanding HTML & CSS\n",
    "- Can be seen on any website and Select \"View Page Source\"\n",
    "\n",
    "##### Example of HTML Source Code #####\n",
    "\n",
    "<!DOCTYPE html>\n",
    "<html>\n",
    "\t<head>\n",
    "\t\t<title>Title on the browser</title>\n",
    "\t</head>\n",
    "\t<body>\n",
    "\t\t<h1> Website Header</h1>\n",
    "\t\t<p> Website Paragraph</p>\t\n",
    "\t</body>\n",
    "</html>"
   ]
  },
  {
   "cell_type": "markdown",
   "metadata": {},
   "source": [
    "## CSS\n",
    "- Cascading Style Sheets\n",
    "- Gives style to a website such as changing colouts and fonts.\n",
    "- CSS uses tags to determine what html elements will be styled."
   ]
  },
  {
   "cell_type": "code",
   "execution_count": null,
   "metadata": {},
   "outputs": [],
   "source": []
  }
 ],
 "metadata": {
  "kernelspec": {
   "display_name": "Python 3",
   "language": "python",
   "name": "python3"
  },
  "language_info": {
   "codemirror_mode": {
    "name": "ipython",
    "version": 3
   },
   "file_extension": ".py",
   "mimetype": "text/x-python",
   "name": "python",
   "nbconvert_exporter": "python",
   "pygments_lexer": "ipython3",
   "version": "3.7.6"
  }
 },
 "nbformat": 4,
 "nbformat_minor": 4
}

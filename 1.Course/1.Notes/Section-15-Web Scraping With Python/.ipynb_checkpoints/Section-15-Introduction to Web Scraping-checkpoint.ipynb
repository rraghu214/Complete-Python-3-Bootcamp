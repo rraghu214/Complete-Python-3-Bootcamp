{
 "cells": [
  {
   "cell_type": "markdown",
   "metadata": {},
   "source": [
    "# Web Scraping\n",
    "- General term for techniques involving automating the gathering of data from a website.\n",
    "- Using python to carry out web scrapin tasks such as downloading/ images or information off a website.\n",
    "- Understand basics of how website works.\n",
    "    - HTML\n",
    "    - CSS\n",
    "    - JS\n",
    "    \n",
    "- How a website connects to internet. \n",
    "- How it shows the data to you.\n",
    "\n",
    "### Main things to understand for web scraping\n",
    "- Rules of web scraping\n",
    "- Limitations of web scraping\n",
    "- Basic HTML & CSS"
   ]
  },
  {
   "cell_type": "code",
   "execution_count": null,
   "metadata": {},
   "outputs": [],
   "source": []
  }
 ],
 "metadata": {
  "kernelspec": {
   "display_name": "Python 3",
   "language": "python",
   "name": "python3"
  },
  "language_info": {
   "codemirror_mode": {
    "name": "ipython",
    "version": 3
   },
   "file_extension": ".py",
   "mimetype": "text/x-python",
   "name": "python",
   "nbconvert_exporter": "python",
   "pygments_lexer": "ipython3",
   "version": "3.7.6"
  }
 },
 "nbformat": 4,
 "nbformat_minor": 4
}

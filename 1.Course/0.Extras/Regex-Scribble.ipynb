{
 "cells": [
  {
   "cell_type": "code",
   "execution_count": 1,
   "metadata": {},
   "outputs": [],
   "source": [
    "import re"
   ]
  },
  {
   "cell_type": "code",
   "execution_count": 2,
   "metadata": {},
   "outputs": [],
   "source": [
    "text = 'my phone once, my phone twice'"
   ]
  },
  {
   "cell_type": "code",
   "execution_count": 6,
   "metadata": {},
   "outputs": [
    {
     "name": "stdout",
     "output_type": "stream",
     "text": [
      "phone\n",
      "phone\n"
     ]
    }
   ],
   "source": [
    "for match in re.finditer('phone', text):\n",
    "    print(match.group())"
   ]
  },
  {
   "cell_type": "code",
   "execution_count": 5,
   "metadata": {},
   "outputs": [
    {
     "name": "stdout",
     "output_type": "stream",
     "text": [
      "3.7.6\n"
     ]
    }
   ],
   "source": [
    "from platform import python_version\n",
    "\n",
    "print(python_version())"
   ]
  },
  {
   "cell_type": "code",
   "execution_count": 7,
   "metadata": {},
   "outputs": [
    {
     "name": "stdout",
     "output_type": "stream",
     "text": [
      "Match 1\n",
      "Match 2\n"
     ]
    }
   ],
   "source": [
    "import re\n",
    "\n",
    "pattern = r\"[^A-Z]\"\n",
    "\n",
    "if re.search(pattern, \"this is all quiet\"):\n",
    "    print(\"Match 1\")\n",
    "\n",
    "if re.search(pattern, \"AbCdEfG123\"):\n",
    "    print(\"Match 2\")\n",
    "\n",
    "if re.search(pattern, \"THISISALLSHOUTING\"):\n",
    "    print(\"Match 3\")"
   ]
  },
  {
   "cell_type": "code",
   "execution_count": 8,
   "metadata": {},
   "outputs": [
    {
     "name": "stdout",
     "output_type": "stream",
     "text": [
      "Match 1\n"
     ]
    }
   ],
   "source": [
    "import re\n",
    "\n",
    "pattern = r\"[^A-Z]\"\n",
    "\n",
    "if re.match(pattern, \"this is all quiet\"):\n",
    "    print(\"Match 1\")\n",
    "\n",
    "if re.match(pattern, \"AbCdEfG123\"):\n",
    "    print(\"Match 2\")\n",
    "\n",
    "if re.match(pattern, \"THISISALLSHOUTING\"):\n",
    "    print(\"Match 3\")"
   ]
  },
  {
   "cell_type": "code",
   "execution_count": 13,
   "metadata": {},
   "outputs": [
    {
     "name": "stdout",
     "output_type": "stream",
     "text": [
      "Match 2\n"
     ]
    }
   ],
   "source": [
    "pattern = r\"egg(spam)+\"\n",
    "\n",
    "if re.match(pattern, \"egg\"):\n",
    "    print(\"Match 1\")\n",
    "\n",
    "if re.match(pattern, \"eggspamspamegg\"):\n",
    "    print(\"Match 2\")\n",
    "\n",
    "if re.match(pattern, \"spam\"):\n",
    "    print(\"Match 3\")\n",
    "\n",
    "if re.match(pattern, \"eggspa\"):\n",
    "    print(\"Match 4\")"
   ]
  },
  {
   "cell_type": "code",
   "execution_count": 25,
   "metadata": {},
   "outputs": [
    {
     "name": "stdout",
     "output_type": "stream",
     "text": [
      "Match 1\n",
      "Match 2\n"
     ]
    }
   ],
   "source": [
    "pattern = r\"9{1,3}$\"\n",
    "\n",
    "if re.match(pattern, \"9\"):\n",
    "    print(\"Match 1\")\n",
    "\n",
    "if re.match(pattern, \"999\"):\n",
    "    print(\"Match 2\")\n",
    "\n",
    "if re.match(pattern, \"99999\"):\n",
    "    print(\"Match 3\")"
   ]
  },
  {
   "cell_type": "code",
   "execution_count": 36,
   "metadata": {},
   "outputs": [
    {
     "name": "stdout",
     "output_type": "stream",
     "text": [
      "abc\n",
      "('abc', 'def', 'ghi')\n"
     ]
    }
   ],
   "source": [
    "#pattern = r\"(?P<first>abc)(?:def)(ghi)\"\n",
    "pattern = r\"(?P<first>abc)(def)(ghi)\"\n",
    "\n",
    "match = re.match(pattern, \"abcdefghi\")\n",
    "if match:\n",
    "    print(match.group(\"first\"))\n",
    "    print(match.groups())"
   ]
  },
  {
   "cell_type": "code",
   "execution_count": 42,
   "metadata": {},
   "outputs": [
    {
     "data": {
      "text/plain": [
       "'ghi'"
      ]
     },
     "execution_count": 42,
     "metadata": {},
     "output_type": "execute_result"
    }
   ],
   "source": [
    "match.group(3)"
   ]
  },
  {
   "cell_type": "code",
   "execution_count": 51,
   "metadata": {},
   "outputs": [
    {
     "name": "stdout",
     "output_type": "stream",
     "text": [
      "Match 1\n",
      "Match 3\n"
     ]
    }
   ],
   "source": [
    "import re\n",
    "\n",
    "pattern = r\"(\\D+\\d)\"\n",
    "\n",
    "match = re.match(pattern, \"Hi 999!\")\n",
    "\n",
    "if match:\n",
    "    print(\"Match 1\")\n",
    "\n",
    "#match = re.match(pattern, \"1, 23, 456!\")\n",
    "match = re.match(pattern, \"1, 23, 456!\")\n",
    "if match:\n",
    "    print(\"Match 2\")\n",
    "\n",
    "match = re.match(pattern, \"! ! $?\")\n",
    "if match:\n",
    "    print(\"Match 3\")"
   ]
  },
  {
   "cell_type": "code",
   "execution_count": 52,
   "metadata": {},
   "outputs": [
    {
     "name": "stdout",
     "output_type": "stream",
     "text": [
      "info@sololearn.com\n"
     ]
    }
   ],
   "source": [
    "import re\n",
    "\n",
    "pattern = r\"([\\w\\.-]+)@([\\w\\.-]+)(\\.[\\w\\.]+)\"\n",
    "str = \"Please contact info@sololearn.com for assistance\"\n",
    "\n",
    "match = re.search(pattern, str)\n",
    "if match:\n",
    "    print(match.group())"
   ]
  },
  {
   "cell_type": "code",
   "execution_count": 56,
   "metadata": {},
   "outputs": [
    {
     "name": "stdout",
     "output_type": "stream",
     "text": [
      "info@sololearn\n"
     ]
    }
   ],
   "source": [
    "import re\n",
    "\n",
    "#pattern = r\"([\\w\\.-]+)@([\\w\\.-]+)(\\.[\\w\\.]+)\"\n",
    "pattern = r\"([\\w]+)@([\\w]+)([\\w]+)\"\n",
    "str = \"Please contact info@sololearn.com for assistance\"\n",
    "\n",
    "match = re.search(pattern, str)\n",
    "if match:\n",
    "    print(match.group())"
   ]
  },
  {
   "cell_type": "code",
   "execution_count": 66,
   "metadata": {},
   "outputs": [],
   "source": [
    "import re\n",
    "\n",
    "#pattern = r\"([\\w\\.-]+)@([\\w\\.-]+)(\\.[\\w\\.]+)\"\n",
    "#pattern = r\"[0-9]@domain\\.com\"\n",
    "#pattern = r\"\\w+@domain.com\"\n",
    "pattern = r\"email\\@(domain\\w)+\"\n",
    "str = \"email@domain.com\"\n",
    "\n",
    "match = re.search(pattern, str)\n",
    "if match:\n",
    "    print(match.group())"
   ]
  },
  {
   "cell_type": "code",
   "execution_count": 76,
   "metadata": {},
   "outputs": [],
   "source": [
    "pattern = r\"[01]+1$\"\n",
    "str = \"001010111100101101111000\"\n",
    "\n",
    "match = re.search(pattern, str)\n",
    "if match:\n",
    "    print(match.group())"
   ]
  },
  {
   "cell_type": "code",
   "execution_count": 77,
   "metadata": {},
   "outputs": [
    {
     "name": "stdout",
     "output_type": "stream",
     "text": [
      "6\n"
     ]
    }
   ],
   "source": [
    "for i in range(10):\n",
    "    if i > 5:\n",
    "        print(i)\n",
    "        break\n",
    "else:\n",
    "    print(\"7\")"
   ]
  },
  {
   "cell_type": "code",
   "execution_count": 78,
   "metadata": {},
   "outputs": [
    {
     "name": "stdout",
     "output_type": "stream",
     "text": [
      "0\n",
      "1\n",
      "2\n",
      "3\n",
      "4\n",
      "5\n",
      "6\n",
      "7\n",
      "8\n",
      "9\n"
     ]
    }
   ],
   "source": [
    "for i in range(10):\n",
    "    print(i)"
   ]
  },
  {
   "cell_type": "code",
   "execution_count": 79,
   "metadata": {},
   "outputs": [],
   "source": [
    "import re"
   ]
  },
  {
   "cell_type": "code",
   "execution_count": 80,
   "metadata": {},
   "outputs": [],
   "source": [
    "text = 'my phone once, my phone twice'\n",
    "match = re.search('phone',text)"
   ]
  },
  {
   "cell_type": "code",
   "execution_count": null,
   "metadata": {},
   "outputs": [],
   "source": [
    "match."
   ]
  },
  {
   "cell_type": "code",
   "execution_count": null,
   "metadata": {},
   "outputs": [],
   "source": []
  },
  {
   "cell_type": "code",
   "execution_count": null,
   "metadata": {},
   "outputs": [],
   "source": []
  },
  {
   "cell_type": "code",
   "execution_count": null,
   "metadata": {},
   "outputs": [],
   "source": []
  },
  {
   "cell_type": "code",
   "execution_count": null,
   "metadata": {},
   "outputs": [],
   "source": []
  }
 ],
 "metadata": {
  "kernelspec": {
   "display_name": "Python 3",
   "language": "python",
   "name": "python3"
  },
  "language_info": {
   "codemirror_mode": {
    "name": "ipython",
    "version": 3
   },
   "file_extension": ".py",
   "mimetype": "text/x-python",
   "name": "python",
   "nbconvert_exporter": "python",
   "pygments_lexer": "ipython3",
   "version": "3.7.6"
  }
 },
 "nbformat": 4,
 "nbformat_minor": 4
}

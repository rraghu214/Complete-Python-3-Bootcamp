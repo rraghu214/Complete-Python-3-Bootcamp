{
 "cells": [
  {
   "cell_type": "code",
   "execution_count": 1,
   "metadata": {},
   "outputs": [],
   "source": [
    "# zip\n",
    "# Min, Max, Random\n",
    "# In Keyword\n",
    "# Enumerate\n",
    "# Range"
   ]
  },
  {
   "cell_type": "code",
   "execution_count": 2,
   "metadata": {},
   "outputs": [
    {
     "data": {
      "text/plain": [
       "range(0, 10)"
      ]
     },
     "execution_count": 2,
     "metadata": {},
     "output_type": "execute_result"
    }
   ],
   "source": [
    "range(10)"
   ]
  },
  {
   "cell_type": "code",
   "execution_count": 7,
   "metadata": {},
   "outputs": [],
   "source": [
    "x=list(range(10))"
   ]
  },
  {
   "cell_type": "code",
   "execution_count": 13,
   "metadata": {},
   "outputs": [
    {
     "data": {
      "text/plain": [
       "[10, 20, 30, 40, 50, 60, 70, 80, 90]"
      ]
     },
     "execution_count": 13,
     "metadata": {},
     "output_type": "execute_result"
    }
   ],
   "source": [
    "x"
   ]
  },
  {
   "cell_type": "code",
   "execution_count": 12,
   "metadata": {},
   "outputs": [],
   "source": [
    "x= list(range(10,100,10))"
   ]
  },
  {
   "cell_type": "code",
   "execution_count": 14,
   "metadata": {},
   "outputs": [
    {
     "name": "stdout",
     "output_type": "stream",
     "text": [
      "Apple\n",
      "Ball\n",
      "Cat\n",
      "Dog\n"
     ]
    }
   ],
   "source": [
    "var = ['Apple','Ball','Cat','Dog']\n",
    "for x in var:\n",
    "    print(x)"
   ]
  },
  {
   "cell_type": "code",
   "execution_count": 15,
   "metadata": {},
   "outputs": [
    {
     "name": "stdout",
     "output_type": "stream",
     "text": [
      "(0, 'Apple')\n",
      "(1, 'Ball')\n",
      "(2, 'Cat')\n",
      "(3, 'Dog')\n"
     ]
    }
   ],
   "source": [
    "for x in enumerate(var):\n",
    "    print(x)"
   ]
  },
  {
   "cell_type": "code",
   "execution_count": 16,
   "metadata": {},
   "outputs": [
    {
     "name": "stdout",
     "output_type": "stream",
     "text": [
      "0 -- Apple\n",
      "1 -- Ball\n",
      "2 -- Cat\n",
      "3 -- Dog\n"
     ]
    }
   ],
   "source": [
    "for x,y in enumerate(var):\n",
    "    print(f'{x} -- {y}')"
   ]
  },
  {
   "cell_type": "code",
   "execution_count": 17,
   "metadata": {},
   "outputs": [
    {
     "name": "stdout",
     "output_type": "stream",
     "text": [
      "r\n",
      "a\n",
      "g\n",
      "h\n",
      "u\n"
     ]
    }
   ],
   "source": [
    "for i in 'raghu':\n",
    "    print(i)"
   ]
  },
  {
   "cell_type": "code",
   "execution_count": 18,
   "metadata": {},
   "outputs": [
    {
     "data": {
      "text/plain": [
       "60"
      ]
     },
     "execution_count": 18,
     "metadata": {},
     "output_type": "execute_result"
    }
   ],
   "source": [
    "nums = [10,20,30,40,50,60]\n",
    "\n",
    "max(nums)"
   ]
  },
  {
   "cell_type": "code",
   "execution_count": 19,
   "metadata": {},
   "outputs": [
    {
     "data": {
      "text/plain": [
       "10"
      ]
     },
     "execution_count": 19,
     "metadata": {},
     "output_type": "execute_result"
    }
   ],
   "source": [
    "min(nums)"
   ]
  },
  {
   "cell_type": "code",
   "execution_count": 31,
   "metadata": {},
   "outputs": [
    {
     "data": {
      "text/plain": [
       "16"
      ]
     },
     "execution_count": 31,
     "metadata": {},
     "output_type": "execute_result"
    }
   ],
   "source": [
    "from random import randint\n",
    "\n",
    "randint(10,40)"
   ]
  },
  {
   "cell_type": "code",
   "execution_count": 48,
   "metadata": {},
   "outputs": [
    {
     "data": {
      "text/plain": [
       "18"
      ]
     },
     "execution_count": 48,
     "metadata": {},
     "output_type": "execute_result"
    }
   ],
   "source": [
    "from random import randrange\n",
    "randrange(10,30)\n"
   ]
  },
  {
   "cell_type": "code",
   "execution_count": 52,
   "metadata": {},
   "outputs": [
    {
     "name": "stdout",
     "output_type": "stream",
     "text": [
      "(1, 'a')\n",
      "(2, 'b')\n",
      "(3, 'c')\n",
      "(4, 'd')\n",
      "(5, 'e')\n",
      "(6, 'f')\n"
     ]
    }
   ],
   "source": [
    "a = [1,2,3,4,5,6]\n",
    "b = ['a','b','c','d','e','f']\n",
    "\n",
    "for item in zip(a,b):\n",
    "    print (item)"
   ]
  },
  {
   "cell_type": "code",
   "execution_count": 60,
   "metadata": {},
   "outputs": [],
   "source": [
    "s = 'string-is-string'\n",
    "l = s.split('-')\n"
   ]
  },
  {
   "cell_type": "code",
   "execution_count": 62,
   "metadata": {},
   "outputs": [
    {
     "data": {
      "text/plain": [
       "'s'"
      ]
     },
     "execution_count": 62,
     "metadata": {},
     "output_type": "execute_result"
    }
   ],
   "source": [
    "l[1][1]"
   ]
  },
  {
   "cell_type": "code",
   "execution_count": 64,
   "metadata": {},
   "outputs": [
    {
     "name": "stdout",
     "output_type": "stream",
     "text": [
      "['r', 'a', 'g', 'h', 'u']\n"
     ]
    }
   ],
   "source": [
    "print( [e for e in 'raghu' ] )"
   ]
  },
  {
   "cell_type": "code",
   "execution_count": 67,
   "metadata": {},
   "outputs": [
    {
     "name": "stdout",
     "output_type": "stream",
     "text": [
      "[0, 'ODD', 2, 'ODD', 4, 'ODD', 6, 'ODD', 8, 'ODD', 10]\n"
     ]
    }
   ],
   "source": [
    "print( [e if e%2 ==0 else 'ODD' for e in range(0,11) ] )"
   ]
  },
  {
   "cell_type": "code",
   "execution_count": 69,
   "metadata": {},
   "outputs": [
    {
     "name": "stdout",
     "output_type": "stream",
     "text": [
      "[0, 2, 4, 6, 8, 10]\n"
     ]
    }
   ],
   "source": [
    "print( [e for e in range(0,11)  if e%2 ==0] )"
   ]
  },
  {
   "cell_type": "code",
   "execution_count": 70,
   "metadata": {},
   "outputs": [
    {
     "name": "stdout",
     "output_type": "stream",
     "text": [
      "['harry', 'potter']\n"
     ]
    }
   ],
   "source": [
    "text = 'harry potter'\n",
    "print(text.split())"
   ]
  },
  {
   "cell_type": "code",
   "execution_count": 72,
   "metadata": {},
   "outputs": [
    {
     "data": {
      "text/plain": [
       "6"
      ]
     },
     "execution_count": 72,
     "metadata": {},
     "output_type": "execute_result"
    }
   ],
   "source": [
    "a = [1,2,3]\n",
    "sum(a)"
   ]
  },
  {
   "cell_type": "code",
   "execution_count": 79,
   "metadata": {},
   "outputs": [
    {
     "name": "stdout",
     "output_type": "stream",
     "text": [
      "range(6, 10)\n"
     ]
    }
   ],
   "source": [
    "var = range(6,10)\n",
    "print(var)"
   ]
  },
  {
   "cell_type": "code",
   "execution_count": 85,
   "metadata": {},
   "outputs": [
    {
     "name": "stdout",
     "output_type": "stream",
     "text": [
      "3\n"
     ]
    }
   ],
   "source": [
    "a = [1,2,3]\n",
    "print(len(a))\n"
   ]
  },
  {
   "cell_type": "code",
   "execution_count": 86,
   "metadata": {},
   "outputs": [
    {
     "name": "stdout",
     "output_type": "stream",
     "text": [
      "1\n",
      "2\n"
     ]
    }
   ],
   "source": [
    "print('1\\n2')"
   ]
  },
  {
   "cell_type": "code",
   "execution_count": 1,
   "metadata": {},
   "outputs": [],
   "source": [
    "a = 'I am home'"
   ]
  },
  {
   "cell_type": "code",
   "execution_count": 7,
   "metadata": {},
   "outputs": [],
   "source": [
    "def master_yoda(b):\n",
    "    x = b.split()\n",
    "    x = x[::-1]\n",
    "    return(' '.join(x))"
   ]
  },
  {
   "cell_type": "code",
   "execution_count": 8,
   "metadata": {},
   "outputs": [
    {
     "data": {
      "text/plain": [
       "'home am I'"
      ]
     },
     "execution_count": 8,
     "metadata": {},
     "output_type": "execute_result"
    }
   ],
   "source": [
    "master_yoda(a)"
   ]
  },
  {
   "cell_type": "markdown",
   "metadata": {},
   "source": [
    "#### Maps\n",
    "- Maps are used here with for loops.\n"
   ]
  },
  {
   "cell_type": "code",
   "execution_count": 21,
   "metadata": {},
   "outputs": [],
   "source": [
    "def cube(x):\n",
    "    return x**3"
   ]
  },
  {
   "cell_type": "code",
   "execution_count": 16,
   "metadata": {},
   "outputs": [
    {
     "name": "stdout",
     "output_type": "stream",
     "text": [
      "1\n",
      "27\n",
      "125\n",
      "343\n"
     ]
    }
   ],
   "source": [
    "a = [1,3,5,7]\n",
    "\n",
    "for item in map(cube,a):\n",
    "    print(item)"
   ]
  },
  {
   "cell_type": "code",
   "execution_count": 17,
   "metadata": {},
   "outputs": [
    {
     "name": "stdout",
     "output_type": "stream",
     "text": [
      "[1, 27, 125, 343]\n"
     ]
    }
   ],
   "source": [
    "b = list(map(cube,a))\n",
    "print(b)"
   ]
  },
  {
   "cell_type": "code",
   "execution_count": 38,
   "metadata": {
    "scrolled": true
   },
   "outputs": [
    {
     "data": {
      "text/plain": [
       "False"
      ]
     },
     "execution_count": 38,
     "metadata": {},
     "output_type": "execute_result"
    }
   ],
   "source": [
    "'aweRTY'.isupper()"
   ]
  },
  {
   "cell_type": "code",
   "execution_count": 41,
   "metadata": {},
   "outputs": [
    {
     "data": {
      "text/plain": [
       "True"
      ]
     },
     "execution_count": 41,
     "metadata": {},
     "output_type": "execute_result"
    }
   ],
   "source": [
    "def checker(a):\n",
    "    return a.isupper()\n",
    "\n",
    "a = 'ABACUS'\n",
    "checker(a)\n",
    "\n",
    "\n"
   ]
  },
  {
   "cell_type": "code",
   "execution_count": 43,
   "metadata": {},
   "outputs": [
    {
     "data": {
      "text/plain": [
       "True"
      ]
     },
     "execution_count": 43,
     "metadata": {},
     "output_type": "execute_result"
    }
   ],
   "source": [
    "x = ' '\n",
    "if  x.upper()"
   ]
  },
  {
   "cell_type": "code",
   "execution_count": 47,
   "metadata": {},
   "outputs": [],
   "source": [
    "from IPython.display import clear_output\n",
    "\n",
    "x = 0\n",
    "print(str(x) *10)\n",
    "clear_output()\n"
   ]
  },
  {
   "cell_type": "code",
   "execution_count": 48,
   "metadata": {},
   "outputs": [],
   "source": [
    "board_elements = ['#','X','O','X','O','X','O','X','O','X']"
   ]
  },
  {
   "cell_type": "code",
   "execution_count": 49,
   "metadata": {},
   "outputs": [
    {
     "ename": "SyntaxError",
     "evalue": "name 'x' is used prior to global declaration (<ipython-input-49-6972ddb13d54>, line 6)",
     "output_type": "error",
     "traceback": [
      "\u001b[1;36m  File \u001b[1;32m\"<ipython-input-49-6972ddb13d54>\"\u001b[1;36m, line \u001b[1;32m6\u001b[0m\n\u001b[1;31mSyntaxError\u001b[0m\u001b[1;31m:\u001b[0m name 'x' is used prior to global declaration\n"
     ]
    }
   ],
   "source": [
    "x = 'YES'\n",
    "while x == 'YES':\n",
    "    global x\n",
    "    x = 'NO'\n",
    "    x = str(input('Im waiting for you to type YES'))"
   ]
  },
  {
   "cell_type": "code",
   "execution_count": 59,
   "metadata": {},
   "outputs": [
    {
     "name": "stdout",
     "output_type": "stream",
     "text": [
      "Play your 1 move\n",
      "1\n",
      "4\n"
     ]
    }
   ],
   "source": [
    "x = 1\n",
    "input(f'Play your {x} move\\n')\n",
    "print('4')"
   ]
  },
  {
   "cell_type": "code",
   "execution_count": 53,
   "metadata": {},
   "outputs": [],
   "source": [
    "from IPython.display import clear_output\n",
    "def play_game():\n",
    "    x = 1\n",
    "    while x < 10:\n",
    "        if x%2 == 0:\n",
    "            print(f'Move # {x}')\n",
    "            inp = str(input('Player2: '))\n",
    "            print()\n",
    "        else:\n",
    "            print(f'Move # {x}')\n",
    "            inp = str(input('Player1: '))\n",
    "            print()\n",
    "        x+=1\n",
    "        clear_output()\n",
    "    print('Game Over!! It is a TIE Match')"
   ]
  },
  {
   "cell_type": "code",
   "execution_count": 55,
   "metadata": {},
   "outputs": [
    {
     "name": "stdout",
     "output_type": "stream",
     "text": [
      "Game Over!! It is a TIE Match\n"
     ]
    }
   ],
   "source": [
    "play_game()"
   ]
  },
  {
   "cell_type": "code",
   "execution_count": 56,
   "metadata": {},
   "outputs": [],
   "source": [
    "x = {'Fruit':'Apple', 'Veggie':'Carrot'}"
   ]
  },
  {
   "cell_type": "code",
   "execution_count": 57,
   "metadata": {},
   "outputs": [
    {
     "data": {
      "text/plain": [
       "'Apple'"
      ]
     },
     "execution_count": 57,
     "metadata": {},
     "output_type": "execute_result"
    }
   ],
   "source": [
    "x['Fruit']"
   ]
  },
  {
   "cell_type": "code",
   "execution_count": 62,
   "metadata": {},
   "outputs": [
    {
     "data": {
      "text/plain": [
       "False"
      ]
     },
     "execution_count": 62,
     "metadata": {},
     "output_type": "execute_result"
    }
   ],
   "source": [
    "1 ==1 ==2"
   ]
  },
  {
   "cell_type": "code",
   "execution_count": 71,
   "metadata": {},
   "outputs": [
    {
     "name": "stdout",
     "output_type": "stream",
     "text": [
      "True\n"
     ]
    }
   ],
   "source": [
    "d = 11\n",
    "\n",
    "if d not in range(1,10):\n",
    "    print(True)\n",
    "else:\n",
    "    print(False)"
   ]
  },
  {
   "cell_type": "code",
   "execution_count": 75,
   "metadata": {},
   "outputs": [
    {
     "name": "stdout",
     "output_type": "stream",
     "text": [
      "Put your number:  20\n",
      "[]\n",
      "[20]\n"
     ]
    }
   ],
   "source": [
    "x = int(input('Put your number:  '))\n",
    "lst=[]\n",
    "print(lst)\n",
    "lst.append(x)\n",
    "print(lst)"
   ]
  },
  {
   "cell_type": "code",
   "execution_count": 3,
   "metadata": {},
   "outputs": [
    {
     "name": "stdout",
     "output_type": "stream",
     "text": [
      "Input is : 1\n",
      "Value already used\n",
      "Input is : 0\n",
      "In If VALID\n"
     ]
    }
   ],
   "source": [
    "#inp = 0\n",
    "temp = [' ','X',' ','O']\n",
    "#temp.append(inp)\n",
    "#print(temp)\n",
    "\n",
    "x = 'INVALID'\n",
    "while x == 'INVALID' :\n",
    "    inp = int(input('Input is : '))\n",
    "    if temp[inp] == ' ':\n",
    "        x = 'VALID'\n",
    "        print(f'In If {x}')\n",
    "    else:\n",
    "        print('Value already used')\n",
    "        x = 'INVALID'\n",
    "\n",
    "        "
   ]
  },
  {
   "cell_type": "code",
   "execution_count": 4,
   "metadata": {},
   "outputs": [],
   "source": [
    "dic = {'P1': 'X', 'P2':'O'}"
   ]
  },
  {
   "cell_type": "code",
   "execution_count": 6,
   "metadata": {},
   "outputs": [
    {
     "data": {
      "text/plain": [
       "dict_values(['X', 'O'])"
      ]
     },
     "execution_count": 6,
     "metadata": {},
     "output_type": "execute_result"
    }
   ],
   "source": [
    "dic.values()"
   ]
  },
  {
   "cell_type": "code",
   "execution_count": 7,
   "metadata": {},
   "outputs": [
    {
     "data": {
      "text/plain": [
       "dict_items([('P1', 'X'), ('P2', 'O')])"
      ]
     },
     "execution_count": 7,
     "metadata": {},
     "output_type": "execute_result"
    }
   ],
   "source": [
    "dic.items()"
   ]
  },
  {
   "cell_type": "code",
   "execution_count": 1,
   "metadata": {},
   "outputs": [],
   "source": [
    "a = (10,20)"
   ]
  },
  {
   "cell_type": "code",
   "execution_count": 2,
   "metadata": {},
   "outputs": [
    {
     "data": {
      "text/plain": [
       "20"
      ]
     },
     "execution_count": 2,
     "metadata": {},
     "output_type": "execute_result"
    }
   ],
   "source": [
    "a[1]"
   ]
  },
  {
   "cell_type": "code",
   "execution_count": 3,
   "metadata": {},
   "outputs": [],
   "source": [
    "def not_string(str):\n",
    "    if str[0] == 'n' and str[1]=='o' and str[2] == 't':\n",
    "        return str\n",
    "    else:\n",
    "        return 'not '+str\n"
   ]
  },
  {
   "cell_type": "code",
   "execution_count": 7,
   "metadata": {},
   "outputs": [
    {
     "data": {
      "text/plain": [
       "'not bad'"
      ]
     },
     "execution_count": 7,
     "metadata": {},
     "output_type": "execute_result"
    }
   ],
   "source": [
    "not_string('not bad')"
   ]
  },
  {
   "cell_type": "code",
   "execution_count": 10,
   "metadata": {},
   "outputs": [],
   "source": [
    "a = 'abcd'\n",
    "lst = [1,2,3,4]"
   ]
  },
  {
   "cell_type": "code",
   "execution_count": 11,
   "metadata": {},
   "outputs": [
    {
     "data": {
      "text/plain": [
       "<function list.pop(index=-1, /)>"
      ]
     },
     "execution_count": 11,
     "metadata": {},
     "output_type": "execute_result"
    }
   ],
   "source": [
    "lst.pop"
   ]
  },
  {
   "cell_type": "code",
   "execution_count": 21,
   "metadata": {},
   "outputs": [],
   "source": [
    "def missing_char(str, n):\n",
    "    lst=[i for i in str]\n",
    "    lst.pop(n)\n",
    "    return ''.join(lst)\n",
    "    \n"
   ]
  },
  {
   "cell_type": "code",
   "execution_count": 23,
   "metadata": {},
   "outputs": [
    {
     "data": {
      "text/plain": [
       "'ktten'"
      ]
     },
     "execution_count": 23,
     "metadata": {},
     "output_type": "execute_result"
    }
   ],
   "source": [
    "missing_char('kitten', 1)"
   ]
  },
  {
   "cell_type": "code",
   "execution_count": 31,
   "metadata": {},
   "outputs": [],
   "source": [
    "def front_back(str):\n",
    "    if len(str) > 1:\n",
    "        return str[-1]+str[1:-1]+str[0]\n",
    "    else:\n",
    "        return str[-1]+str[1:-1]\n"
   ]
  },
  {
   "cell_type": "code",
   "execution_count": 35,
   "metadata": {},
   "outputs": [
    {
     "data": {
      "text/plain": [
       "'b'"
      ]
     },
     "execution_count": 35,
     "metadata": {},
     "output_type": "execute_result"
    }
   ],
   "source": [
    "front_back('b')"
   ]
  },
  {
   "cell_type": "code",
   "execution_count": 39,
   "metadata": {},
   "outputs": [],
   "source": [
    "#Warmup-2 > string_bits\n",
    "def string_bits(str):\n",
    "    i = 0\n",
    "    val = []\n",
    "    while i < len(str):\n",
    "        if i%2 == 0:\n",
    "            val.append(str[i])\n",
    "        i+=1\n",
    "    return ''.join(val)\n",
    "\n",
    "\n",
    "    return result+=str[i] for i in range(0,len(str)) if i%2 ==0\n"
   ]
  },
  {
   "cell_type": "code",
   "execution_count": 41,
   "metadata": {},
   "outputs": [
    {
     "data": {
      "text/plain": [
       "'Hlo'"
      ]
     },
     "execution_count": 41,
     "metadata": {},
     "output_type": "execute_result"
    }
   ],
   "source": [
    "string_bits('Hello')"
   ]
  },
  {
   "cell_type": "code",
   "execution_count": 58,
   "metadata": {},
   "outputs": [],
   "source": [
    "def string_bits1(str):\n",
    "    val = []\n",
    "    return (''.join([val.append(str[i]) for i in range(0,len(str)) if i%2 ==0]))"
   ]
  },
  {
   "cell_type": "code",
   "execution_count": 60,
   "metadata": {},
   "outputs": [
    {
     "ename": "TypeError",
     "evalue": "sequence item 0: expected str instance, NoneType found",
     "output_type": "error",
     "traceback": [
      "\u001b[1;31m---------------------------------------------------------------------------\u001b[0m",
      "\u001b[1;31mTypeError\u001b[0m                                 Traceback (most recent call last)",
      "\u001b[1;32m<ipython-input-60-185807b33e65>\u001b[0m in \u001b[0;36m<module>\u001b[1;34m\u001b[0m\n\u001b[1;32m----> 1\u001b[1;33m \u001b[0mstring_bits1\u001b[0m\u001b[1;33m(\u001b[0m\u001b[1;34m'Hello'\u001b[0m\u001b[1;33m)\u001b[0m\u001b[1;33m\u001b[0m\u001b[1;33m\u001b[0m\u001b[0m\n\u001b[0m",
      "\u001b[1;32m<ipython-input-58-8eb212b074b4>\u001b[0m in \u001b[0;36mstring_bits1\u001b[1;34m(str)\u001b[0m\n\u001b[0;32m      1\u001b[0m \u001b[1;32mdef\u001b[0m \u001b[0mstring_bits1\u001b[0m\u001b[1;33m(\u001b[0m\u001b[0mstr\u001b[0m\u001b[1;33m)\u001b[0m\u001b[1;33m:\u001b[0m\u001b[1;33m\u001b[0m\u001b[1;33m\u001b[0m\u001b[0m\n\u001b[0;32m      2\u001b[0m     \u001b[0mval\u001b[0m \u001b[1;33m=\u001b[0m \u001b[1;33m[\u001b[0m\u001b[1;33m]\u001b[0m\u001b[1;33m\u001b[0m\u001b[1;33m\u001b[0m\u001b[0m\n\u001b[1;32m----> 3\u001b[1;33m     \u001b[1;32mreturn\u001b[0m \u001b[1;33m(\u001b[0m\u001b[1;34m''\u001b[0m\u001b[1;33m.\u001b[0m\u001b[0mjoin\u001b[0m\u001b[1;33m(\u001b[0m\u001b[1;33m[\u001b[0m\u001b[0mval\u001b[0m\u001b[1;33m.\u001b[0m\u001b[0mappend\u001b[0m\u001b[1;33m(\u001b[0m\u001b[0mstr\u001b[0m\u001b[1;33m[\u001b[0m\u001b[0mi\u001b[0m\u001b[1;33m]\u001b[0m\u001b[1;33m)\u001b[0m \u001b[1;32mfor\u001b[0m \u001b[0mi\u001b[0m \u001b[1;32min\u001b[0m \u001b[0mrange\u001b[0m\u001b[1;33m(\u001b[0m\u001b[1;36m0\u001b[0m\u001b[1;33m,\u001b[0m\u001b[0mlen\u001b[0m\u001b[1;33m(\u001b[0m\u001b[0mstr\u001b[0m\u001b[1;33m)\u001b[0m\u001b[1;33m)\u001b[0m \u001b[1;32mif\u001b[0m \u001b[0mi\u001b[0m\u001b[1;33m%\u001b[0m\u001b[1;36m2\u001b[0m \u001b[1;33m==\u001b[0m\u001b[1;36m0\u001b[0m\u001b[1;33m]\u001b[0m\u001b[1;33m)\u001b[0m\u001b[1;33m)\u001b[0m\u001b[1;33m\u001b[0m\u001b[1;33m\u001b[0m\u001b[0m\n\u001b[0m",
      "\u001b[1;31mTypeError\u001b[0m: sequence item 0: expected str instance, NoneType found"
     ]
    }
   ],
   "source": [
    "string_bits1('Hello')"
   ]
  },
  {
   "cell_type": "code",
   "execution_count": 94,
   "metadata": {},
   "outputs": [],
   "source": [
    "#Warmup-2 > string_splosion\n",
    "def string_splosion(str):\n",
    "    result = ''\n",
    "    for i in range(1,len(str)+1):              \n",
    "        result = result + str[0:i]\n",
    "        i+=1\n",
    "    return result"
   ]
  },
  {
   "cell_type": "code",
   "execution_count": 95,
   "metadata": {},
   "outputs": [
    {
     "data": {
      "text/plain": [
       "'CCoCodCode'"
      ]
     },
     "execution_count": 95,
     "metadata": {},
     "output_type": "execute_result"
    }
   ],
   "source": [
    "string_splosion('Code')"
   ]
  },
  {
   "cell_type": "code",
   "execution_count": 85,
   "metadata": {},
   "outputs": [
    {
     "name": "stdout",
     "output_type": "stream",
     "text": [
      "\n"
     ]
    }
   ],
   "source": [
    "val = 'a'\n",
    "print(val * 0)"
   ]
  },
  {
   "cell_type": "code",
   "execution_count": 114,
   "metadata": {},
   "outputs": [],
   "source": [
    "#Warmup-2 > last2\n",
    "\n",
    "def last2(str):\n",
    "    search = str[-2:]\n",
    "    #print(str[:-2])\n",
    "    count = 0\n",
    "    for i in range(len(str[:-2])):\n",
    "        sub = str[i:i+2]\n",
    "        if sub == search:\n",
    "            count+=1\n",
    "    print(count)"
   ]
  },
  {
   "cell_type": "code",
   "execution_count": 115,
   "metadata": {},
   "outputs": [
    {
     "name": "stdout",
     "output_type": "stream",
     "text": [
      "1\n",
      "1\n",
      "2\n"
     ]
    }
   ],
   "source": [
    "last2('hixxhi')\n",
    "last2('xaxxaxaxx')\n",
    "last2('axxxaaxx')"
   ]
  },
  {
   "cell_type": "code",
   "execution_count": 120,
   "metadata": {},
   "outputs": [],
   "source": [
    "#Warmup-2 > array_front9\n",
    "def array_count9(nums):\n",
    "    val = [i for i in nums if i == 9]\n",
    "    return val.count(9)"
   ]
  },
  {
   "cell_type": "code",
   "execution_count": 121,
   "metadata": {},
   "outputs": [
    {
     "data": {
      "text/plain": [
       "2"
      ]
     },
     "execution_count": 121,
     "metadata": {},
     "output_type": "execute_result"
    }
   ],
   "source": [
    "array_count9([1,9,1,19,9])"
   ]
  },
  {
   "cell_type": "code",
   "execution_count": 123,
   "metadata": {},
   "outputs": [
    {
     "name": "stdout",
     "output_type": "stream",
     "text": [
      "[1, 2, 3]\n"
     ]
    }
   ],
   "source": [
    "print(a)"
   ]
  },
  {
   "cell_type": "code",
   "execution_count": 124,
   "metadata": {},
   "outputs": [],
   "source": [
    "a = [1,2,3]"
   ]
  },
  {
   "cell_type": "code",
   "execution_count": 125,
   "metadata": {},
   "outputs": [
    {
     "data": {
      "text/plain": [
       "3"
      ]
     },
     "execution_count": 125,
     "metadata": {},
     "output_type": "execute_result"
    }
   ],
   "source": [
    "len(a)"
   ]
  },
  {
   "cell_type": "code",
   "execution_count": 126,
   "metadata": {},
   "outputs": [
    {
     "data": {
      "text/plain": [
       "True"
      ]
     },
     "execution_count": 126,
     "metadata": {},
     "output_type": "execute_result"
    }
   ],
   "source": [
    "3 in a"
   ]
  },
  {
   "cell_type": "code",
   "execution_count": 129,
   "metadata": {},
   "outputs": [],
   "source": [
    "#Warmup-2 > array_front9\n",
    "\n",
    "def array_front9(nums):\n",
    "    if len(nums) < 4:\n",
    "        return 9 in nums\n",
    "    else:\n",
    "        return 9 in nums[:4]\n"
   ]
  },
  {
   "cell_type": "code",
   "execution_count": 130,
   "metadata": {},
   "outputs": [
    {
     "data": {
      "text/plain": [
       "True"
      ]
     },
     "execution_count": 130,
     "metadata": {},
     "output_type": "execute_result"
    }
   ],
   "source": [
    "array_front9([1, 2, 9, 3, 4]) "
   ]
  },
  {
   "cell_type": "code",
   "execution_count": 134,
   "metadata": {},
   "outputs": [
    {
     "data": {
      "text/plain": [
       "False"
      ]
     },
     "execution_count": 134,
     "metadata": {},
     "output_type": "execute_result"
    }
   ],
   "source": [
    "i = [1,2]\n",
    "i in a"
   ]
  },
  {
   "cell_type": "code",
   "execution_count": 138,
   "metadata": {},
   "outputs": [],
   "source": [
    "b = '123'"
   ]
  },
  {
   "cell_type": "code",
   "execution_count": 140,
   "metadata": {},
   "outputs": [
    {
     "data": {
      "text/plain": [
       "True"
      ]
     },
     "execution_count": 140,
     "metadata": {},
     "output_type": "execute_result"
    }
   ],
   "source": [
    "'12' in b"
   ]
  },
  {
   "cell_type": "code",
   "execution_count": 173,
   "metadata": {},
   "outputs": [],
   "source": [
    "def array123(nums):\n",
    "    val = ''.join(str(i) for i in nums)\n",
    "    #print(val)\n",
    "    #return '123' in ''.join(str(i) for i in nums)\n",
    "    print(val.count('123'))\n"
   ]
  },
  {
   "cell_type": "code",
   "execution_count": 174,
   "metadata": {},
   "outputs": [
    {
     "name": "stdout",
     "output_type": "stream",
     "text": [
      "2\n"
     ]
    }
   ],
   "source": [
    "array123([1, 1, 2,3,1,2,3])"
   ]
  },
  {
   "cell_type": "code",
   "execution_count": 175,
   "metadata": {},
   "outputs": [
    {
     "data": {
      "text/plain": [
       "str"
      ]
     },
     "execution_count": 175,
     "metadata": {},
     "output_type": "execute_result"
    }
   ],
   "source": [
    "#Warmup-2 > string_match\n",
    "\n",
    "\n",
    "def string_match123(a, b):\n",
    "\n",
    "    count=0\n",
    "    for i in range(len(a)):\n",
    "        q1=a[i:i+2]\n",
    "        print(q1)\n",
    "        for j in range(len(b)):\n",
    "            q2 = b[j:j+2]\n",
    "            print(q2)\n",
    "            if q1 == q2 and (len(q1) == len(q2) ==2):\n",
    "                count+=1\n",
    "    return count\n"
   ]
  },
  {
   "cell_type": "code",
   "execution_count": 192,
   "metadata": {},
   "outputs": [],
   "source": [
    "#Warmup-2 > string_match\n",
    "#Given 2 strings, a and b, return the number of the positions where they contain the same length 2 substring. So \"xxcaazz\" and \"xxbaaz\" yields 3, since the \"xx\", \"aa\", and \"az\" substrings appear in the same place in both strings.\n",
    "\n",
    "def string_match(a, b):\n",
    "   \n",
    "    count=0\n",
    "    for i in range(len(a)):\n",
    "        num1 = i\n",
    "        num2 = i+2\n",
    "        if a[num1:num2] == b[num1:num2] and (len(a[i:i+2]) == len(b[i:i+2]) ==2):\n",
    "            count+=1\n",
    "            \n",
    "    return count"
   ]
  },
  {
   "cell_type": "code",
   "execution_count": 193,
   "metadata": {},
   "outputs": [
    {
     "data": {
      "text/plain": [
       "3"
      ]
     },
     "execution_count": 193,
     "metadata": {},
     "output_type": "execute_result"
    }
   ],
   "source": [
    "string_match('xxcaazz', 'xxbaaz') "
   ]
  },
  {
   "cell_type": "code",
   "execution_count": 195,
   "metadata": {},
   "outputs": [],
   "source": [
    "def make_tags(tag, word):\n",
    "    return '<'+tag+'>'+word+'<'+tag+'/>'"
   ]
  },
  {
   "cell_type": "code",
   "execution_count": 196,
   "metadata": {},
   "outputs": [],
   "source": [
    "def first_two(str):\n",
    "    return str[:2]"
   ]
  },
  {
   "cell_type": "code",
   "execution_count": 197,
   "metadata": {},
   "outputs": [
    {
     "data": {
      "text/plain": [
       "'He'"
      ]
     },
     "execution_count": 197,
     "metadata": {},
     "output_type": "execute_result"
    }
   ],
   "source": [
    "first_two('Hello')"
   ]
  },
  {
   "cell_type": "code",
   "execution_count": 198,
   "metadata": {},
   "outputs": [
    {
     "data": {
      "text/plain": [
       "''"
      ]
     },
     "execution_count": 198,
     "metadata": {},
     "output_type": "execute_result"
    }
   ],
   "source": [
    "first_two('')"
   ]
  },
  {
   "cell_type": "code",
   "execution_count": 199,
   "metadata": {},
   "outputs": [
    {
     "data": {
      "text/plain": [
       "'H'"
      ]
     },
     "execution_count": 199,
     "metadata": {},
     "output_type": "execute_result"
    }
   ],
   "source": [
    "first_two('H')"
   ]
  },
  {
   "cell_type": "code",
   "execution_count": 200,
   "metadata": {},
   "outputs": [
    {
     "ename": "SyntaxError",
     "evalue": "invalid syntax (<ipython-input-200-4d7f66d78d2e>, line 2)",
     "output_type": "error",
     "traceback": [
      "\u001b[1;36m  File \u001b[1;32m\"<ipython-input-200-4d7f66d78d2e>\"\u001b[1;36m, line \u001b[1;32m2\u001b[0m\n\u001b[1;33m    return if (nums[0] ==6) or (nums[-1] == 6)\u001b[0m\n\u001b[1;37m            ^\u001b[0m\n\u001b[1;31mSyntaxError\u001b[0m\u001b[1;31m:\u001b[0m invalid syntax\n"
     ]
    }
   ],
   "source": [
    "def first_last6(nums):\n",
    "    return if (nums[0] ==6) or (nums[-1] == 6)\n"
   ]
  },
  {
   "cell_type": "code",
   "execution_count": 201,
   "metadata": {},
   "outputs": [
    {
     "data": {
      "text/plain": [
       "3"
      ]
     },
     "execution_count": 201,
     "metadata": {},
     "output_type": "execute_result"
    }
   ],
   "source": [
    "len(a)"
   ]
  },
  {
   "cell_type": "code",
   "execution_count": 202,
   "metadata": {},
   "outputs": [
    {
     "data": {
      "text/plain": [
       "6"
      ]
     },
     "execution_count": 202,
     "metadata": {},
     "output_type": "execute_result"
    }
   ],
   "source": [
    "sum(a)"
   ]
  },
  {
   "cell_type": "code",
   "execution_count": 203,
   "metadata": {},
   "outputs": [
    {
     "ename": "TypeError",
     "evalue": "can only concatenate list (not \"int\") to list",
     "output_type": "error",
     "traceback": [
      "\u001b[1;31m---------------------------------------------------------------------------\u001b[0m",
      "\u001b[1;31mTypeError\u001b[0m                                 Traceback (most recent call last)",
      "\u001b[1;32m<ipython-input-203-109f220e19ba>\u001b[0m in \u001b[0;36m<module>\u001b[1;34m\u001b[0m\n\u001b[1;32m----> 1\u001b[1;33m \u001b[0ma\u001b[0m\u001b[1;33m[\u001b[0m\u001b[1;33m:\u001b[0m\u001b[1;36m2\u001b[0m\u001b[1;33m]\u001b[0m\u001b[1;33m+\u001b[0m\u001b[0ma\u001b[0m\u001b[1;33m[\u001b[0m\u001b[1;36m2\u001b[0m\u001b[1;33m]\u001b[0m\u001b[1;33m\u001b[0m\u001b[1;33m\u001b[0m\u001b[0m\n\u001b[0m",
      "\u001b[1;31mTypeError\u001b[0m: can only concatenate list (not \"int\") to list"
     ]
    }
   ],
   "source": [
    "a[:2]+a[2]"
   ]
  },
  {
   "cell_type": "code",
   "execution_count": 204,
   "metadata": {},
   "outputs": [],
   "source": [
    "b = a.pop()"
   ]
  },
  {
   "cell_type": "code",
   "execution_count": 205,
   "metadata": {},
   "outputs": [
    {
     "name": "stdout",
     "output_type": "stream",
     "text": [
      "3\n"
     ]
    }
   ],
   "source": [
    "print(b)"
   ]
  },
  {
   "cell_type": "code",
   "execution_count": 220,
   "metadata": {},
   "outputs": [],
   "source": [
    "a = [1,2,3]"
   ]
  },
  {
   "cell_type": "code",
   "execution_count": 208,
   "metadata": {},
   "outputs": [],
   "source": [
    "a.append(b)"
   ]
  },
  {
   "cell_type": "code",
   "execution_count": 216,
   "metadata": {},
   "outputs": [],
   "source": [
    "def rotate_left3(nums):\n",
    "    b=nums.pop(0)\n",
    "    nums.append(b)\n",
    "    return nums"
   ]
  },
  {
   "cell_type": "code",
   "execution_count": 217,
   "metadata": {},
   "outputs": [
    {
     "data": {
      "text/plain": [
       "[2, 3, 1]"
      ]
     },
     "execution_count": 217,
     "metadata": {},
     "output_type": "execute_result"
    }
   ],
   "source": [
    "rotate_left3([1, 2, 3]) "
   ]
  },
  {
   "cell_type": "code",
   "execution_count": 225,
   "metadata": {},
   "outputs": [
    {
     "data": {
      "text/plain": [
       "0"
      ]
     },
     "execution_count": 225,
     "metadata": {},
     "output_type": "execute_result"
    }
   ],
   "source": [
    "x = []\n",
    "sum(x)"
   ]
  },
  {
   "cell_type": "code",
   "execution_count": 230,
   "metadata": {},
   "outputs": [
    {
     "data": {
      "text/plain": [
       "True"
      ]
     },
     "execution_count": 230,
     "metadata": {},
     "output_type": "execute_result"
    }
   ],
   "source": [
    " 3 in a or 2 in a"
   ]
  },
  {
   "cell_type": "code",
   "execution_count": 241,
   "metadata": {},
   "outputs": [],
   "source": [
    "def near_ten(num):\n",
    "    val =  num%10\n",
    "    print(abs(val))\n",
    "    return val in [0,1,2,8,9]\n"
   ]
  },
  {
   "cell_type": "code",
   "execution_count": 243,
   "metadata": {},
   "outputs": [
    {
     "name": "stdout",
     "output_type": "stream",
     "text": [
      "8\n"
     ]
    },
    {
     "data": {
      "text/plain": [
       "True"
      ]
     },
     "execution_count": 243,
     "metadata": {},
     "output_type": "execute_result"
    }
   ],
   "source": [
    "near_ten(158) "
   ]
  },
  {
   "attachments": {
    "image.png": {
     "image/png": "[encoded data removed]"
    }
   },
   "cell_type": "markdown",
   "metadata": {},
   "source": [
    "# Logic-2 > make_bricks\n",
    "We want to make a row of bricks that is goal inches long. We have a number of small bricks (1 inch each) and big bricks (5 inches each). Return True if it is possible to make the goal by choosing from the given bricks. This is a little harder than it looks and can be done without any loops. See also: Introduction to MakeBricks\n",
    "make_bricks(3, 1, 8) → True\n",
    "make_bricks(3, 1, 9) → False\n",
    "make_bricks(3, 2, 10) → True\n",
    "\n",
    "![image.png](attachment:image.png)"
   ]
  },
  {
   "cell_type": "code",
   "execution_count": 244,
   "metadata": {},
   "outputs": [],
   "source": [
    "def make_bricks(small, big, goal):\n",
    "    return goal%5 >= 0 and goal%5 -small <=0 and small+ 5*big >= goal\n"
   ]
  },
  {
   "cell_type": "code",
   "execution_count": 260,
   "metadata": {},
   "outputs": [
    {
     "name": "stdout",
     "output_type": "stream",
     "text": [
      "-------\n",
      "|♠    |\n",
      "|  5  |\n",
      "|    ♠|\n",
      "-------\n"
     ]
    }
   ],
   "source": [
    "print('-------')\n",
    "print(f'|{symbols[\"spade\"]}    |')\n",
    "print('|  5  |')\n",
    "print(f'|    {symbols[\"spade\"]}|')\n",
    "print('-------')"
   ]
  },
  {
   "cell_type": "code",
   "execution_count": 252,
   "metadata": {},
   "outputs": [],
   "source": [
    "symbols = {\"spade\":\"♠\",\"heart\":\"♥\",\"clubs\":\"♣\",\"diamond\":\"♦\"}"
   ]
  },
  {
   "cell_type": "code",
   "execution_count": 267,
   "metadata": {},
   "outputs": [
    {
     "data": {
      "text/plain": [
       "['2', '3', '4', '5', '6', '7', '8', '9', '10', 'J', 'Q', 'K', 'A']"
      ]
     },
     "execution_count": 267,
     "metadata": {},
     "output_type": "execute_result"
    }
   ],
   "source": [
    "num_values = [str(i) for i in range(2,11)]\n",
    "new_values = ['J','Q','K','A']\n",
    "card_values = num_values + new_values\n",
    "card_values"
   ]
  },
  {
   "cell_type": "code",
   "execution_count": 272,
   "metadata": {},
   "outputs": [],
   "source": [
    "def show_card(suite):\n",
    "    num_values = [str(i) for i in range(2,11)]\n",
    "    new_values = ['J','Q','K','A']\n",
    "    card_values = num_values + new_values\n",
    "    suites = {\"spade\":\"♠\",\"heart\":\"♥\",\"clubs\":\"♣\",\"diamond\":\"♦\"}\n",
    "    sym=suites[suite]\n",
    "    for i in card_values:\n",
    "        print('-------')\n",
    "        print(f'|{sym}    |')\n",
    "        if i == '10':\n",
    "            print(f'| {i}  |')\n",
    "        else:\n",
    "            print(f'|  {i}  |')\n",
    "        print(f'|    {sym}|')\n",
    "        print('-------')\n",
    "        "
   ]
  },
  {
   "cell_type": "code",
   "execution_count": null,
   "metadata": {},
   "outputs": [],
   "source": [
    "card_values."
   ]
  },
  {
   "cell_type": "code",
   "execution_count": null,
   "metadata": {},
   "outputs": [],
   "source": [
    "show_card(\"heart\")"
   ]
  },
  {
   "cell_type": "code",
   "execution_count": null,
   "metadata": {},
   "outputs": [],
   "source": [
    "show_card(\"clubs\")"
   ]
  },
  {
   "cell_type": "code",
   "execution_count": null,
   "metadata": {},
   "outputs": [],
   "source": [
    "show_card(\"diamond\")"
   ]
  },
  {
   "cell_type": "code",
   "execution_count": 299,
   "metadata": {},
   "outputs": [
    {
     "ename": "KeyError",
     "evalue": "1",
     "output_type": "error",
     "traceback": [
      "\u001b[1;31m---------------------------------------------------------------------------\u001b[0m",
      "\u001b[1;31mKeyError\u001b[0m                                  Traceback (most recent call last)",
      "\u001b[1;32m<ipython-input-299-5b80ada18399>\u001b[0m in \u001b[0;36m<module>\u001b[1;34m\u001b[0m\n\u001b[0;32m      2\u001b[0m \u001b[0mcard_values\u001b[0m \u001b[1;33m=\u001b[0m \u001b[1;33m[\u001b[0m\u001b[1;34m'2'\u001b[0m\u001b[1;33m,\u001b[0m \u001b[1;34m'3'\u001b[0m\u001b[1;33m,\u001b[0m \u001b[1;34m'4'\u001b[0m\u001b[1;33m,\u001b[0m \u001b[1;34m'5'\u001b[0m\u001b[1;33m,\u001b[0m \u001b[1;34m'6'\u001b[0m\u001b[1;33m,\u001b[0m \u001b[1;34m'7'\u001b[0m\u001b[1;33m,\u001b[0m \u001b[1;34m'8'\u001b[0m\u001b[1;33m,\u001b[0m \u001b[1;34m'9'\u001b[0m\u001b[1;33m,\u001b[0m \u001b[1;34m'10'\u001b[0m\u001b[1;33m,\u001b[0m \u001b[1;34m'J'\u001b[0m\u001b[1;33m,\u001b[0m \u001b[1;34m'Q'\u001b[0m\u001b[1;33m,\u001b[0m \u001b[1;34m'K'\u001b[0m\u001b[1;33m,\u001b[0m \u001b[1;34m'A'\u001b[0m\u001b[1;33m]\u001b[0m\u001b[1;33m\u001b[0m\u001b[1;33m\u001b[0m\u001b[0m\n\u001b[0;32m      3\u001b[0m \u001b[0msuites\u001b[0m \u001b[1;33m=\u001b[0m \u001b[1;33m{\u001b[0m\u001b[1;34m\"spade\"\u001b[0m\u001b[1;33m:\u001b[0m\u001b[1;34m\"♠\"\u001b[0m\u001b[1;33m,\u001b[0m\u001b[1;34m\"heart\"\u001b[0m\u001b[1;33m:\u001b[0m\u001b[1;34m\"♥\"\u001b[0m\u001b[1;33m,\u001b[0m\u001b[1;34m\"clubs\"\u001b[0m\u001b[1;33m:\u001b[0m\u001b[1;34m\"♣\"\u001b[0m\u001b[1;33m,\u001b[0m\u001b[1;34m\"diamond\"\u001b[0m\u001b[1;33m:\u001b[0m\u001b[1;34m\"♦\"\u001b[0m\u001b[1;33m}\u001b[0m\u001b[1;33m\u001b[0m\u001b[1;33m\u001b[0m\u001b[0m\n\u001b[1;32m----> 4\u001b[1;33m \u001b[0mprint\u001b[0m\u001b[1;33m(\u001b[0m\u001b[0mrandom\u001b[0m\u001b[1;33m.\u001b[0m\u001b[0mchoice\u001b[0m\u001b[1;33m(\u001b[0m\u001b[0msuites\u001b[0m\u001b[1;33m)\u001b[0m\u001b[1;33m)\u001b[0m\u001b[1;33m\u001b[0m\u001b[1;33m\u001b[0m\u001b[0m\n\u001b[0m",
      "\u001b[1;32mC:\\Installs\\Others\\Anaconda3\\lib\\random.py\u001b[0m in \u001b[0;36mchoice\u001b[1;34m(self, seq)\u001b[0m\n\u001b[0;32m    260\u001b[0m         \u001b[1;32mexcept\u001b[0m \u001b[0mValueError\u001b[0m\u001b[1;33m:\u001b[0m\u001b[1;33m\u001b[0m\u001b[1;33m\u001b[0m\u001b[0m\n\u001b[0;32m    261\u001b[0m             \u001b[1;32mraise\u001b[0m \u001b[0mIndexError\u001b[0m\u001b[1;33m(\u001b[0m\u001b[1;34m'Cannot choose from an empty sequence'\u001b[0m\u001b[1;33m)\u001b[0m \u001b[1;32mfrom\u001b[0m \u001b[1;32mNone\u001b[0m\u001b[1;33m\u001b[0m\u001b[1;33m\u001b[0m\u001b[0m\n\u001b[1;32m--> 262\u001b[1;33m         \u001b[1;32mreturn\u001b[0m \u001b[0mseq\u001b[0m\u001b[1;33m[\u001b[0m\u001b[0mi\u001b[0m\u001b[1;33m]\u001b[0m\u001b[1;33m\u001b[0m\u001b[1;33m\u001b[0m\u001b[0m\n\u001b[0m\u001b[0;32m    263\u001b[0m \u001b[1;33m\u001b[0m\u001b[0m\n\u001b[0;32m    264\u001b[0m     \u001b[1;32mdef\u001b[0m \u001b[0mshuffle\u001b[0m\u001b[1;33m(\u001b[0m\u001b[0mself\u001b[0m\u001b[1;33m,\u001b[0m \u001b[0mx\u001b[0m\u001b[1;33m,\u001b[0m \u001b[0mrandom\u001b[0m\u001b[1;33m=\u001b[0m\u001b[1;32mNone\u001b[0m\u001b[1;33m)\u001b[0m\u001b[1;33m:\u001b[0m\u001b[1;33m\u001b[0m\u001b[1;33m\u001b[0m\u001b[0m\n",
      "\u001b[1;31mKeyError\u001b[0m: 1"
     ]
    }
   ],
   "source": [
    "import random\n",
    "card_values = ['2', '3', '4', '5', '6', '7', '8', '9', '10', 'J', 'Q', 'K', 'A']\n",
    "suites = {\"spade\":\"♠\",\"heart\":\"♥\",\"clubs\":\"♣\",\"diamond\":\"♦\"}\n",
    "print(random.choice(suites))"
   ]
  },
  {
   "cell_type": "code",
   "execution_count": 325,
   "metadata": {},
   "outputs": [
    {
     "name": "stdout",
     "output_type": "stream",
     "text": [
      "5-spade,\n",
      "['5', 'spade,']\n"
     ]
    }
   ],
   "source": [
    "val_spade = ['2-spade','3-spade','4-spade','5-spade,','6-spade','7-spade','8-spade','9-spade','10-spade','J-spade','Q-spade','K-spade','A-spade']\n",
    "val_heart = ['2-heart','3-heart','4-heart','5-heart,','6-heart','7-heart','8-heart','9-heart','10-heart','J-heart','Q-heart','K-heart','A-heart']\n",
    "val_diamond = ['2-diamond','3-diamond','4-diamond','5-diamond,','6-diamond','7-diamond','8-diamond','9-diamond','10-diamond','J-diamond','Q-diamond','K-diamond','A-diamond']\n",
    "val_clubs = ['2-clubs','3-clubs','4-clubs','5-clubs,','6-clubs','7-clubs','8-clubs','9-clubs','10-clubs','J-clubs','Q-clubs','K-clubs','A-clubs']\n",
    "all_cards = val_spade + val_heart + val_clubs + val_diamond\n",
    "i=random.choice(all_cards)\n",
    "j = random.choices\n",
    "print(i)\n",
    "x=i.split('-')\n",
    "print(x)"
   ]
  },
  {
   "cell_type": "code",
   "execution_count": 329,
   "metadata": {},
   "outputs": [
    {
     "name": "stdout",
     "output_type": "stream",
     "text": [
      "['2-spade', '3-spade', '4-spade', '5-spade,', '6-spade', '7-spade', '8-spade', '9-spade', '10-spade', 'J-spade', 'Q-spade', 'K-spade', 'A-spade', '2-heart', '3-heart', '4-heart', '5-heart,', '6-heart', '7-heart', '8-heart', '9-heart', '10-heart', 'J-heart', 'Q-heart', 'K-heart', 'A-heart', '2-clubs', '3-clubs', '4-clubs', '5-clubs,', '6-clubs', '7-clubs', '8-clubs', '9-clubs', '10-clubs', 'J-clubs', 'Q-clubs', 'K-clubs', 'A-clubs', '2-diamond', '3-diamond', '4-diamond', '5-diamond,', '6-diamond', '7-diamond', '8-diamond', '9-diamond', '10-diamond', 'J-diamond', 'Q-diamond', 'K-diamond', 'A-diamond']\n"
     ]
    }
   ],
   "source": [
    "tmp_cards = all_cards\n",
    "#tmp_cards.pop(i)\n",
    "print(tmp_cards)"
   ]
  },
  {
   "cell_type": "code",
   "execution_count": 331,
   "metadata": {},
   "outputs": [
    {
     "name": "stdout",
     "output_type": "stream",
     "text": [
      "['2-spade', '3-spade', '4-spade', '6-spade', '7-spade', '8-spade', '9-spade', '10-spade', 'J-spade', 'Q-spade', 'K-spade', 'A-spade', '2-heart', '3-heart', '4-heart', '5-heart,', '6-heart', '7-heart', '8-heart', '9-heart', '10-heart', 'J-heart', 'Q-heart', 'K-heart', 'A-heart', '2-clubs', '3-clubs', '4-clubs', '5-clubs,', '6-clubs', '7-clubs', '8-clubs', '9-clubs', '10-clubs', 'J-clubs', 'Q-clubs', 'K-clubs', 'A-clubs', '2-diamond', '3-diamond', '4-diamond', '5-diamond,', '6-diamond', '7-diamond', '8-diamond', '9-diamond', '10-diamond', 'J-diamond', 'Q-diamond', 'K-diamond', 'A-diamond']\n"
     ]
    }
   ],
   "source": [
    "tmp_cards = all_cards\n",
    "tmp_cards.remove(i)\n",
    "print(tmp_cards)"
   ]
  },
  {
   "cell_type": "code",
   "execution_count": 333,
   "metadata": {},
   "outputs": [
    {
     "data": {
      "text/plain": [
       "<function list.remove(value, /)>"
      ]
     },
     "execution_count": 333,
     "metadata": {},
     "output_type": "execute_result"
    }
   ],
   "source": [
    "a = ['1','2']\n",
    "a.remove"
   ]
  },
  {
   "cell_type": "code",
   "execution_count": 343,
   "metadata": {},
   "outputs": [
    {
     "name": "stdout",
     "output_type": "stream",
     "text": [
      "time.struct_time(tm_year=2020, tm_mon=5, tm_mday=2, tm_hour=21, tm_min=57, tm_sec=12, tm_wday=5, tm_yday=123, tm_isdst=0)\n",
      "time.struct_time(tm_year=2020, tm_mon=5, tm_mday=2, tm_hour=21, tm_min=57, tm_sec=22, tm_wday=5, tm_yday=123, tm_isdst=0)\n"
     ]
    }
   ],
   "source": [
    "import time\n",
    "print(time.localtime())\n",
    "time.sleep(10)\n",
    "print(time.localtime())"
   ]
  },
  {
   "cell_type": "code",
   "execution_count": 351,
   "metadata": {},
   "outputs": [],
   "source": [
    "import random\n",
    "\n",
    "class Cards():\n",
    "    def __init__(self):\n",
    "        pass\n",
    "\n",
    "    def initialize_cards(self):\n",
    "        val_spade = ['2-spade','3-spade','4-spade','5-spade,','6-spade','7-spade','8-spade','9-spade','10-spade','J-spade','Q-spade','K-spade','A-spade']\n",
    "        val_heart = ['2-heart','3-heart','4-heart','5-heart,','6-heart','7-heart','8-heart','9-heart','10-heart','J-heart','Q-heart','K-heart','A-heart']\n",
    "        val_diamond = ['2-diamond','3-diamond','4-diamond','5-diamond,','6-diamond','7-diamond','8-diamond','9-diamond','10-diamond','J-diamond','Q-diamond','K-diamond','A-diamond']\n",
    "        val_clubs = ['2-clubs','3-clubs','4-clubs','5-clubs,','6-clubs','7-clubs','8-clubs','9-clubs','10-clubs','J-clubs','Q-clubs','K-clubs','A-clubs']\n",
    "        \n",
    "        all_cards = val_spade + val_heart + val_clubs + val_diamond\n",
    "        return all_cards\n",
    "\n",
    "    def random_pick(self,current_deck):\n",
    "        return random.choice(current_deck)\n",
    "\n",
    "\n",
    "    def new_deck(self,current_deck,removed):\n",
    "        print()\n",
    "        print(removed)\n",
    "        print(current_deck)\n",
    "        print()\n",
    "        print()\n",
    "        tmp_card = current_deck\n",
    "        tmp_card.remove(removed)\n",
    "        print(tmp_card)\n",
    "        return tmp_card"
   ]
  },
  {
   "cell_type": "code",
   "execution_count": 352,
   "metadata": {},
   "outputs": [
    {
     "name": "stdout",
     "output_type": "stream",
     "text": [
      "['2-spade', '3-spade', '4-spade', '5-spade,', '6-spade', '7-spade', '8-spade', '9-spade', '10-spade', 'J-spade', 'Q-spade', 'K-spade', 'A-spade', '2-heart', '3-heart', '4-heart', '5-heart,', '6-heart', '7-heart', '8-heart', '9-heart', '10-heart', 'J-heart', 'Q-heart', 'K-heart', 'A-heart', '2-clubs', '3-clubs', '4-clubs', '5-clubs,', '6-clubs', '7-clubs', '8-clubs', '9-clubs', '10-clubs', 'J-clubs', 'Q-clubs', 'K-clubs', 'A-clubs', '2-diamond', '3-diamond', '4-diamond', '5-diamond,', '6-diamond', '7-diamond', '8-diamond', '9-diamond', '10-diamond', 'J-diamond', 'Q-diamond', 'K-diamond', 'A-diamond']\n",
      "\n",
      "5-spade,\n",
      "\n",
      "5-spade,\n",
      "['2-spade', '3-spade', '4-spade', '5-spade,', '6-spade', '7-spade', '8-spade', '9-spade', '10-spade', 'J-spade', 'Q-spade', 'K-spade', 'A-spade', '2-heart', '3-heart', '4-heart', '5-heart,', '6-heart', '7-heart', '8-heart', '9-heart', '10-heart', 'J-heart', 'Q-heart', 'K-heart', 'A-heart', '2-clubs', '3-clubs', '4-clubs', '5-clubs,', '6-clubs', '7-clubs', '8-clubs', '9-clubs', '10-clubs', 'J-clubs', 'Q-clubs', 'K-clubs', 'A-clubs', '2-diamond', '3-diamond', '4-diamond', '5-diamond,', '6-diamond', '7-diamond', '8-diamond', '9-diamond', '10-diamond', 'J-diamond', 'Q-diamond', 'K-diamond', 'A-diamond']\n",
      "\n",
      "\n",
      "['2-spade', '3-spade', '4-spade', '6-spade', '7-spade', '8-spade', '9-spade', '10-spade', 'J-spade', 'Q-spade', 'K-spade', 'A-spade', '2-heart', '3-heart', '4-heart', '5-heart,', '6-heart', '7-heart', '8-heart', '9-heart', '10-heart', 'J-heart', 'Q-heart', 'K-heart', 'A-heart', '2-clubs', '3-clubs', '4-clubs', '5-clubs,', '6-clubs', '7-clubs', '8-clubs', '9-clubs', '10-clubs', 'J-clubs', 'Q-clubs', 'K-clubs', 'A-clubs', '2-diamond', '3-diamond', '4-diamond', '5-diamond,', '6-diamond', '7-diamond', '8-diamond', '9-diamond', '10-diamond', 'J-diamond', 'Q-diamond', 'K-diamond', 'A-diamond']\n",
      "['2-spade', '3-spade', '4-spade', '6-spade', '7-spade', '8-spade', '9-spade', '10-spade', 'J-spade', 'Q-spade', 'K-spade', 'A-spade', '2-heart', '3-heart', '4-heart', '5-heart,', '6-heart', '7-heart', '8-heart', '9-heart', '10-heart', 'J-heart', 'Q-heart', 'K-heart', 'A-heart', '2-clubs', '3-clubs', '4-clubs', '5-clubs,', '6-clubs', '7-clubs', '8-clubs', '9-clubs', '10-clubs', 'J-clubs', 'Q-clubs', 'K-clubs', 'A-clubs', '2-diamond', '3-diamond', '4-diamond', '5-diamond,', '6-diamond', '7-diamond', '8-diamond', '9-diamond', '10-diamond', 'J-diamond', 'Q-diamond', 'K-diamond', 'A-diamond']\n"
     ]
    }
   ],
   "source": [
    "new_game = Cards()\n",
    "x=new_game.initialize_cards()\n",
    "print(x)\n",
    "y=new_game.random_pick(x)\n",
    "print()\n",
    "print(y)\n",
    "z=new_game.new_deck(x,y)\n",
    "print(z)"
   ]
  },
  {
   "cell_type": "code",
   "execution_count": 356,
   "metadata": {},
   "outputs": [
    {
     "name": "stdout",
     "output_type": "stream",
     "text": [
      "[['5', 'spade']]\n",
      "spade\n"
     ]
    }
   ],
   "source": [
    "j = '5-spade'\n",
    "x=j.split('-')\n",
    "print(x)\n",
    "print(y)"
   ]
  },
  {
   "cell_type": "code",
   "execution_count": 357,
   "metadata": {},
   "outputs": [],
   "source": [
    "scores_dict = {'2':'2','3':'3','4':'4','5':'5','6':'6','7':'7','8':'8','9':'9','10':'10','J':'10','Q':'10','K':'10','A':['1','11']}"
   ]
  },
  {
   "cell_type": "code",
   "execution_count": 359,
   "metadata": {},
   "outputs": [
    {
     "data": {
      "text/plain": [
       "['1', '11']"
      ]
     },
     "execution_count": 359,
     "metadata": {},
     "output_type": "execute_result"
    }
   ],
   "source": [
    "scores_dict['A']"
   ]
  },
  {
   "cell_type": "code",
   "execution_count": 391,
   "metadata": {},
   "outputs": [],
   "source": [
    "a = [3,4,8,9,'A',3]\n",
    "#sum(a)"
   ]
  },
  {
   "cell_type": "code",
   "execution_count": 371,
   "metadata": {},
   "outputs": [],
   "source": [
    "a = sum([i for i in a if i != 'A'])\n",
    "#sum(a)"
   ]
  },
  {
   "cell_type": "code",
   "execution_count": 393,
   "metadata": {},
   "outputs": [
    {
     "data": {
      "text/plain": [
       "int"
      ]
     },
     "execution_count": 393,
     "metadata": {},
     "output_type": "execute_result"
    }
   ],
   "source": [
    "type(a.count(3))"
   ]
  },
  {
   "cell_type": "code",
   "execution_count": 399,
   "metadata": {},
   "outputs": [],
   "source": [
    "#sum(i for i in values if i != 'A') + (11*factor)\n",
    "class Scoring():\n",
    "\n",
    "    def __init__(self):\n",
    "        pass\n",
    "\n",
    "    def get_total_value(self,cards,values):\n",
    "        \n",
    "        if 'A' in values:\n",
    "            \n",
    "            factor = values.count('A')\n",
    "            \n",
    "            if sum(i for i in values if i != 'A') + 11 + ((factor-1) * 1) <=21:\n",
    "                \n",
    "                return sum(i for i in values if i != 'A') + 11 + ((factor-1) * 1)\n",
    "                \n",
    "            else:\n",
    "                return sum(i for i in values if i != 'A') + (factor * 1)\n",
    "                \n",
    "            \n",
    "        else:\n",
    "            return sum(values)\n",
    "\n",
    "    def get_card_value(self,value):\n",
    "        \n",
    "        scores_dict = {'2':2,'3':3,'4':4,'5':5,'6':6,'7':7,'8':8,'9':9,'10':10,'J':10,'Q':10,'K':10,'A':'A'}\n",
    "        \n",
    "        return scores_dict[value]"
   ]
  },
  {
   "cell_type": "code",
   "execution_count": 406,
   "metadata": {},
   "outputs": [
    {
     "name": "stdout",
     "output_type": "stream",
     "text": [
      "14\n"
     ]
    }
   ],
   "source": [
    "cards = ['2','4','3','A','A','A','A']\n",
    "values = ['A','A','A','A']\n",
    "a = Scoring()\n",
    "b = a.get_total_value(cards,values)\n",
    "print(b)"
   ]
  },
  {
   "cell_type": "code",
   "execution_count": 407,
   "metadata": {},
   "outputs": [],
   "source": [
    "def sample():\n",
    "    a =1\n",
    "    b =2\n",
    "    return a,b"
   ]
  },
  {
   "cell_type": "code",
   "execution_count": 409,
   "metadata": {},
   "outputs": [
    {
     "data": {
      "text/plain": [
       "(1, 2)"
      ]
     },
     "execution_count": 409,
     "metadata": {},
     "output_type": "execute_result"
    }
   ],
   "source": [
    "sample()"
   ]
  },
  {
   "cell_type": "code",
   "execution_count": 416,
   "metadata": {},
   "outputs": [],
   "source": [
    "a = []"
   ]
  },
  {
   "cell_type": "code",
   "execution_count": 417,
   "metadata": {},
   "outputs": [
    {
     "data": {
      "text/plain": [
       "0"
      ]
     },
     "execution_count": 417,
     "metadata": {},
     "output_type": "execute_result"
    }
   ],
   "source": [
    "len(a)"
   ]
  },
  {
   "cell_type": "code",
   "execution_count": 6,
   "metadata": {},
   "outputs": [],
   "source": [
    "a =[[0]*2]*2"
   ]
  },
  {
   "cell_type": "code",
   "execution_count": 7,
   "metadata": {},
   "outputs": [
    {
     "data": {
      "text/plain": [
       "[[0, 0], [0, 0]]"
      ]
     },
     "execution_count": 7,
     "metadata": {},
     "output_type": "execute_result"
    }
   ],
   "source": [
    "a"
   ]
  },
  {
   "cell_type": "code",
   "execution_count": 4,
   "metadata": {},
   "outputs": [],
   "source": [
    "a[0][0] = 5"
   ]
  },
  {
   "cell_type": "code",
   "execution_count": 15,
   "metadata": {},
   "outputs": [
    {
     "name": "stdout",
     "output_type": "stream",
     "text": [
      "[[5, 0], [5, 0]]\n"
     ]
    }
   ],
   "source": [
    "\n",
    "print(a)"
   ]
  },
  {
   "cell_type": "code",
   "execution_count": 14,
   "metadata": {},
   "outputs": [],
   "source": [
    "a[0][0] = 5"
   ]
  },
  {
   "cell_type": "code",
   "execution_count": null,
   "metadata": {},
   "outputs": [],
   "source": []
  },
  {
   "cell_type": "code",
   "execution_count": 23,
   "metadata": {},
   "outputs": [],
   "source": [
    "lst_a = [0,1]"
   ]
  },
  {
   "cell_type": "code",
   "execution_count": 24,
   "metadata": {},
   "outputs": [
    {
     "data": {
      "text/plain": [
       "2"
      ]
     },
     "execution_count": 24,
     "metadata": {},
     "output_type": "execute_result"
    }
   ],
   "source": [
    "len(lst_a)"
   ]
  },
  {
   "cell_type": "code",
   "execution_count": 25,
   "metadata": {},
   "outputs": [],
   "source": [
    "lst_b = lst_a"
   ]
  },
  {
   "cell_type": "code",
   "execution_count": 28,
   "metadata": {},
   "outputs": [
    {
     "data": {
      "text/plain": [
       "3"
      ]
     },
     "execution_count": 28,
     "metadata": {},
     "output_type": "execute_result"
    }
   ],
   "source": [
    "len(lst_b)"
   ]
  },
  {
   "cell_type": "code",
   "execution_count": 27,
   "metadata": {},
   "outputs": [],
   "source": [
    "\n",
    "lst_a.append(2)"
   ]
  },
  {
   "cell_type": "code",
   "execution_count": 21,
   "metadata": {},
   "outputs": [
    {
     "name": "stdout",
     "output_type": "stream",
     "text": [
      "3\n"
     ]
    }
   ],
   "source": [
    "print(len(lst_b))"
   ]
  },
  {
   "cell_type": "code",
   "execution_count": 22,
   "metadata": {},
   "outputs": [
    {
     "data": {
      "text/plain": [
       "[0, 1, 2]"
      ]
     },
     "execution_count": 22,
     "metadata": {},
     "output_type": "execute_result"
    }
   ],
   "source": [
    "lst_b"
   ]
  },
  {
   "cell_type": "code",
   "execution_count": 29,
   "metadata": {},
   "outputs": [],
   "source": [
    "x = (1,2,3)"
   ]
  },
  {
   "cell_type": "code",
   "execution_count": 45,
   "metadata": {},
   "outputs": [
    {
     "name": "stdout",
     "output_type": "stream",
     "text": [
      "112131"
     ]
    }
   ],
   "source": [
    "\n",
    "print(*x,sep=\"1\",end=\"1\")"
   ]
  },
  {
   "cell_type": "code",
   "execution_count": 32,
   "metadata": {},
   "outputs": [],
   "source": [
    "trump = [-3,-2,-1,1,12,3]"
   ]
  },
  {
   "cell_type": "code",
   "execution_count": 33,
   "metadata": {},
   "outputs": [
    {
     "name": "stdout",
     "output_type": "stream",
     "text": [
      "0\n"
     ]
    }
   ],
   "source": [
    "\n",
    "print(sum(trump)%1)"
   ]
  },
  {
   "cell_type": "code",
   "execution_count": 34,
   "metadata": {},
   "outputs": [],
   "source": [
    "i = '3471'"
   ]
  },
  {
   "cell_type": "code",
   "execution_count": 35,
   "metadata": {},
   "outputs": [],
   "source": [
    "z = i[::-1]"
   ]
  },
  {
   "cell_type": "code",
   "execution_count": 36,
   "metadata": {},
   "outputs": [
    {
     "data": {
      "text/plain": [
       "'1743'"
      ]
     },
     "execution_count": 36,
     "metadata": {},
     "output_type": "execute_result"
    }
   ],
   "source": [
    "z"
   ]
  },
  {
   "cell_type": "code",
   "execution_count": 46,
   "metadata": {},
   "outputs": [
    {
     "name": "stdout",
     "output_type": "stream",
     "text": [
      "4433\n"
     ]
    }
   ],
   "source": [
    "print(z[2]*2 + z[3]*2)"
   ]
  },
  {
   "cell_type": "code",
   "execution_count": 47,
   "metadata": {},
   "outputs": [
    {
     "name": "stdout",
     "output_type": "stream",
     "text": [
      "567\n"
     ]
    }
   ],
   "source": [
    "print(int(567.5))"
   ]
  },
  {
   "cell_type": "code",
   "execution_count": 60,
   "metadata": {},
   "outputs": [],
   "source": [
    "def product_sums(factor,*args):\n",
    "    print(args*factor)"
   ]
  },
  {
   "cell_type": "code",
   "execution_count": 61,
   "metadata": {},
   "outputs": [
    {
     "name": "stdout",
     "output_type": "stream",
     "text": [
      "(2, 3, 4, 5, 2, 3, 4, 5)\n"
     ]
    }
   ],
   "source": [
    "product_sums(2,2,3,4,5)"
   ]
  }
 ],
 "metadata": {
  "kernelspec": {
   "display_name": "Python 3",
   "language": "python",
   "name": "python3"
  },
  "language_info": {
   "codemirror_mode": {
    "name": "ipython",
    "version": 3
   },
   "file_extension": ".py",
   "mimetype": "text/x-python",
   "name": "python",
   "nbconvert_exporter": "python",
   "pygments_lexer": "ipython3",
   "version": "3.7.4"
  }
 },
 "nbformat": 4,
 "nbformat_minor": 2
}
